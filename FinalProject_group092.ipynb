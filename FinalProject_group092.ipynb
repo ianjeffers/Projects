{
  "nbformat": 4,
  "nbformat_minor": 0,
  "metadata": {
    "kernelspec": {
      "display_name": "Python 3",
      "language": "python",
      "name": "python3"
    },
    "language_info": {
      "codemirror_mode": {
        "name": "ipython",
        "version": 3
      },
      "file_extension": ".py",
      "mimetype": "text/x-python",
      "name": "python",
      "nbconvert_exporter": "python",
      "pygments_lexer": "ipython3",
      "version": "3.8.3"
    },
    "colab": {
      "name": "FinalProject_group092.ipynb",
      "provenance": []
    }
  },
  "cells": [
    {
      "cell_type": "markdown",
      "metadata": {
        "id": "8V3UBiL9zWPH"
      },
      "source": [
        "# COGS 108 - The Effect of COVID-19 in Our Oceans"
      ]
    },
    {
      "cell_type": "markdown",
      "metadata": {
        "id": "3y1TZfmbzWPJ"
      },
      "source": [
        "## Permissions\n",
        "\n",
        "Place an `X` in the appropriate bracket below to specify if you would like your group's project to be made available to the public. (Note that student names will be included (but PIDs will be scraped from any groups who include their PIDs).\n",
        "\n",
        "* [X] YES - make available\n",
        "* [  ] NO - keep private"
      ]
    },
    {
      "cell_type": "markdown",
      "metadata": {
        "id": "9e9Uklf5zWPM"
      },
      "source": [
        "# Overview"
      ]
    },
    {
      "cell_type": "markdown",
      "metadata": {
        "id": "ovVHL6lkzWPO"
      },
      "source": [
        "With the growing prominence of climate change and the beginning of the pandemic, we wanted to analyze the influence of COVID-19 preventative measures on the amount of pollution found in the United States' oceans, more specifically Personal Protective Equipment (PPE). After looking through past work regarding ocean waste, including National Oceanic and Atmospheric Administration (NOAA), we found a dataset from TIDES, or Trash Information and Data for Educaiton and Solutions. Using this data, we cleaned it of its few missing variables and constructed some features to determine the potential correlation between amounts of and rates of PPE collected over time; with a t-test, we found that the rates of PPE collected before and after the start of COVID-19 were not signfiicantly different. After analyzing the relationship between the variables, we used some of these features to construct a predictor model, calculating the potential amounts of PPE based off of past trends. "
      ]
    },
    {
      "cell_type": "markdown",
      "metadata": {
        "id": "Pn3LNgJTzWPQ"
      },
      "source": [
        "# Names\n",
        "\n",
        "- Sikandar Bangash\n",
        "- Ian Jeffers\n",
        "- Mary Mei Longano\n",
        "- Rachel Ung"
      ]
    },
    {
      "cell_type": "markdown",
      "metadata": {
        "id": "jpxWJkMczWPS"
      },
      "source": [
        "<a id='research_question'></a>\n",
        "# Research Question"
      ]
    },
    {
      "cell_type": "markdown",
      "metadata": {
        "id": "eBUt_bJDzWPT"
      },
      "source": [
        "How has COVID-19 preventative measures affected the amounts of and rates of PPE pollution collected on the coastlines of the United States over time?"
      ]
    },
    {
      "cell_type": "markdown",
      "metadata": {
        "id": "H8B3nES3zWPU"
      },
      "source": [
        "<a id='background'></a>\n",
        "\n",
        "## Background & Prior Work"
      ]
    },
    {
      "cell_type": "markdown",
      "metadata": {
        "id": "cATBx64MzWPW"
      },
      "source": [
        "Plastic pollution has been on the rise for years, and has impacted the ecosystems in our oceans drastically. While these pollutants may be only one of many factors impacting our environment, plastic pollution is one of the most impactful issues. From sea turtles choking on plastic straws to microplastics showing up in major human organs, plastic pollution seems to permeate our lives in ways we never would have imagined. Nowadays, in the era of the coronavirus pandemic, masks and Personal Protective Equipment (PPE) are normalized and encouraged, which is leaving its mark in the form of plastic PPE pollution. Using historical data from the last few years, we hope to analyze this trend to further understand how our ecosystems have and will be affected by human plastic consumption and waste.\n",
        "\n",
        "The National Centers for Environmental Information, National Oceanic and Atmospheric Administration (NOAA) is a source for environmental data and has specifically recorded trends occuring in the oceans due to plastic consumption. Their site features data regarding sea surface salinity and temperature, microplastics, pCO2, and chlorophyll collected from Turn the Tide on Plastic and AkzoNobel and meteorological data. Additionally, they feature data including ocean currents and estimates the plastics in locations using currents and identifies it by plastic subtype and pollutant type. Another source of information was the Coastal Cleanup Project, which is a volunteer-driven waste-cleanup and waste-tracking organization, who has been operating and collecting pollution and litter data since 2015. \n",
        "\n",
        "On March 11, 2020, the World Health Organization officially declared COVID-19 to be a pandemic. We want to investigate if the implementation of COVID-19 preventative measures has any correlation with the amount of Personal Protective Equipment (PPE) found in our oceans.\n",
        "\n",
        "References (include links):\n",
        "- 1) https://www.ncei.noaa.gov/access/metadata/landing-page/bin/iso?id=gov.noaa.nodc:0170967\n",
        "- 2) https://hub.arcgis.com/datasets/9975c79018ac43ea88ddb64ff92e5375?geometry=-143.690%2C-88.949%2C-32.176%2C63.454\n",
        "- 3) https://www.ajmc.com/view/a-timeline-of-covid19-developments-in-2020"
      ]
    },
    {
      "cell_type": "markdown",
      "metadata": {
        "id": "rOo7QJsqzWPY"
      },
      "source": [
        "# Hypothesis\n"
      ]
    },
    {
      "cell_type": "markdown",
      "metadata": {
        "id": "3tltHCskzWPb"
      },
      "source": [
        "We believe that there will be an increase in PPE pollution (measured as frequency and PPE collected per volunteer) in the ocean as time progresses from the start of the COVID-19 pandemic.\n",
        "\n",
        "(prompted by the drastic increase in both the supply and demand of PPE in accordance with local policy and regulation)"
      ]
    },
    {
      "cell_type": "markdown",
      "metadata": {
        "id": "GZuQZuYbzWPd"
      },
      "source": [
        "# Dataset(s)"
      ]
    },
    {
      "cell_type": "markdown",
      "metadata": {
        "id": "vK9DLIk7zWPe"
      },
      "source": [
        "This dataset comes form TIDES, or Trash Information and Data for Education and Solutions. We are focused on the United States of America specifically, and we intend to use the waste data, including weight and volume of trash cleaned, to understand the distribution of trash in our oceans.\n",
        "\n",
        "- Dataset Name: [Data] Trash Information and Data for Education and Solutions\n",
        "- Link to the dataset: https://www.coastalcleanupdata.org/reports#\n",
        "- Number of observations: 20,086"
      ]
    },
    {
      "cell_type": "markdown",
      "metadata": {
        "id": "HCsETq_2zWPf"
      },
      "source": [
        "# Setup"
      ]
    },
    {
      "cell_type": "code",
      "metadata": {
        "id": "TK2bcn3IzWPg"
      },
      "source": [
        "import pandas as pd\n",
        "import numpy as np\n",
        "import matplotlib.pyplot as plt\n",
        "from datetime import datetime\n",
        "from scipy.stats import ttest_ind\n",
        "import warnings\n",
        "warnings.filterwarnings(\"ignore\")"
      ],
      "execution_count": null,
      "outputs": []
    },
    {
      "cell_type": "code",
      "metadata": {
        "id": "6VKRVO_wzWPg",
        "outputId": "3a26de29-e40c-4659-d91a-4f49736abf1e"
      },
      "source": [
        "df = pd.read_csv('DetailedSummary-UnitedStates.csv', low_memory=False)\n",
        "df.head()"
      ],
      "execution_count": null,
      "outputs": [
        {
          "output_type": "execute_result",
          "data": {
            "text/html": [
              "<div>\n",
              "<style scoped>\n",
              "    .dataframe tbody tr th:only-of-type {\n",
              "        vertical-align: middle;\n",
              "    }\n",
              "\n",
              "    .dataframe tbody tr th {\n",
              "        vertical-align: top;\n",
              "    }\n",
              "\n",
              "    .dataframe thead th {\n",
              "        text-align: right;\n",
              "    }\n",
              "</style>\n",
              "<table border=\"1\" class=\"dataframe\">\n",
              "  <thead>\n",
              "    <tr style=\"text-align: right;\">\n",
              "      <th></th>\n",
              "      <th>Cleanup ID</th>\n",
              "      <th>Zone</th>\n",
              "      <th>State</th>\n",
              "      <th>Country</th>\n",
              "      <th>GPS</th>\n",
              "      <th>Cleanup Type</th>\n",
              "      <th>Cleanup Date</th>\n",
              "      <th>Group Name</th>\n",
              "      <th>Adults</th>\n",
              "      <th>Children</th>\n",
              "      <th>...</th>\n",
              "      <th>Condoms</th>\n",
              "      <th>Diapers</th>\n",
              "      <th>Syringes</th>\n",
              "      <th>Tampons/Tampon Applicators</th>\n",
              "      <th>Personal Hygiene (Clean Swell)</th>\n",
              "      <th>Gloves &amp; Masks (PPE)</th>\n",
              "      <th>Foam Pieces</th>\n",
              "      <th>Glass Pieces</th>\n",
              "      <th>Plastic Pieces</th>\n",
              "      <th>Total Items Collected</th>\n",
              "    </tr>\n",
              "  </thead>\n",
              "  <tbody>\n",
              "    <tr>\n",
              "      <th>0</th>\n",
              "      <td>75961</td>\n",
              "      <td>Monroe County, MI, USA</td>\n",
              "      <td>Michigan, USA</td>\n",
              "      <td>United States</td>\n",
              "      <td>41.93515, -83.39225</td>\n",
              "      <td>Land (beach, shoreline and inland)</td>\n",
              "      <td>2020-06-22</td>\n",
              "      <td>NaN</td>\n",
              "      <td>1.0</td>\n",
              "      <td>0.0</td>\n",
              "      <td>...</td>\n",
              "      <td>0</td>\n",
              "      <td>0</td>\n",
              "      <td>0</td>\n",
              "      <td>0</td>\n",
              "      <td>0</td>\n",
              "      <td>0</td>\n",
              "      <td>0</td>\n",
              "      <td>0</td>\n",
              "      <td>0</td>\n",
              "      <td>11.0</td>\n",
              "    </tr>\n",
              "    <tr>\n",
              "      <th>1</th>\n",
              "      <td>94571</td>\n",
              "      <td>NaN</td>\n",
              "      <td>NaN</td>\n",
              "      <td>United States</td>\n",
              "      <td>28.635674604683, -83.133995150659</td>\n",
              "      <td>Land (beach, shoreline and inland)</td>\n",
              "      <td>2020-09-19</td>\n",
              "      <td>Citrus County Aquatic Services</td>\n",
              "      <td>130.0</td>\n",
              "      <td>121.0</td>\n",
              "      <td>...</td>\n",
              "      <td>7</td>\n",
              "      <td>3</td>\n",
              "      <td>1</td>\n",
              "      <td>12</td>\n",
              "      <td>0</td>\n",
              "      <td>0</td>\n",
              "      <td>283</td>\n",
              "      <td>179</td>\n",
              "      <td>192</td>\n",
              "      <td>6445.0</td>\n",
              "    </tr>\n",
              "    <tr>\n",
              "      <th>2</th>\n",
              "      <td>102671</td>\n",
              "      <td>Harris County, TX, USA</td>\n",
              "      <td>Texas, USA</td>\n",
              "      <td>United States</td>\n",
              "      <td>29.70636, -95.54475</td>\n",
              "      <td>Land (beach, shoreline and inland)</td>\n",
              "      <td>2020-12-24</td>\n",
              "      <td>Kinsey-Lloyd</td>\n",
              "      <td>2.0</td>\n",
              "      <td>0.0</td>\n",
              "      <td>...</td>\n",
              "      <td>0</td>\n",
              "      <td>0</td>\n",
              "      <td>0</td>\n",
              "      <td>0</td>\n",
              "      <td>0</td>\n",
              "      <td>0</td>\n",
              "      <td>0</td>\n",
              "      <td>0</td>\n",
              "      <td>250</td>\n",
              "      <td>262.0</td>\n",
              "    </tr>\n",
              "    <tr>\n",
              "      <th>3</th>\n",
              "      <td>102672</td>\n",
              "      <td>Harris County, TX, USA</td>\n",
              "      <td>Texas, USA</td>\n",
              "      <td>United States</td>\n",
              "      <td>29.70636, -95.54475</td>\n",
              "      <td>Land (beach, shoreline and inland)</td>\n",
              "      <td>2020-12-24</td>\n",
              "      <td>Kinsey-Lloyd</td>\n",
              "      <td>2.0</td>\n",
              "      <td>0.0</td>\n",
              "      <td>...</td>\n",
              "      <td>0</td>\n",
              "      <td>0</td>\n",
              "      <td>0</td>\n",
              "      <td>0</td>\n",
              "      <td>2</td>\n",
              "      <td>0</td>\n",
              "      <td>0</td>\n",
              "      <td>0</td>\n",
              "      <td>1251</td>\n",
              "      <td>1302.0</td>\n",
              "    </tr>\n",
              "    <tr>\n",
              "      <th>4</th>\n",
              "      <td>102682</td>\n",
              "      <td>Harris County, TX, USA</td>\n",
              "      <td>Texas, USA</td>\n",
              "      <td>United States</td>\n",
              "      <td>29.70636, -95.54475</td>\n",
              "      <td>Land (beach, shoreline and inland)</td>\n",
              "      <td>2020-12-24</td>\n",
              "      <td>Kinsey-Lloyd</td>\n",
              "      <td>2.0</td>\n",
              "      <td>0.0</td>\n",
              "      <td>...</td>\n",
              "      <td>0</td>\n",
              "      <td>0</td>\n",
              "      <td>0</td>\n",
              "      <td>0</td>\n",
              "      <td>0</td>\n",
              "      <td>0</td>\n",
              "      <td>0</td>\n",
              "      <td>0</td>\n",
              "      <td>250</td>\n",
              "      <td>262.0</td>\n",
              "    </tr>\n",
              "  </tbody>\n",
              "</table>\n",
              "<p>5 rows × 65 columns</p>\n",
              "</div>"
            ],
            "text/plain": [
              "  Cleanup ID                    Zone          State        Country  \\\n",
              "0      75961  Monroe County, MI, USA  Michigan, USA  United States   \n",
              "1      94571                     NaN            NaN  United States   \n",
              "2     102671  Harris County, TX, USA     Texas, USA  United States   \n",
              "3     102672  Harris County, TX, USA     Texas, USA  United States   \n",
              "4     102682  Harris County, TX, USA     Texas, USA  United States   \n",
              "\n",
              "                                 GPS                        Cleanup Type  \\\n",
              "0                41.93515, -83.39225  Land (beach, shoreline and inland)   \n",
              "1  28.635674604683, -83.133995150659  Land (beach, shoreline and inland)   \n",
              "2                29.70636, -95.54475  Land (beach, shoreline and inland)   \n",
              "3                29.70636, -95.54475  Land (beach, shoreline and inland)   \n",
              "4                29.70636, -95.54475  Land (beach, shoreline and inland)   \n",
              "\n",
              "  Cleanup Date                      Group Name  Adults  Children  ...  \\\n",
              "0   2020-06-22                             NaN     1.0       0.0  ...   \n",
              "1   2020-09-19  Citrus County Aquatic Services   130.0     121.0  ...   \n",
              "2   2020-12-24                    Kinsey-Lloyd     2.0       0.0  ...   \n",
              "3   2020-12-24                    Kinsey-Lloyd     2.0       0.0  ...   \n",
              "4   2020-12-24                    Kinsey-Lloyd     2.0       0.0  ...   \n",
              "\n",
              "   Condoms  Diapers  Syringes  Tampons/Tampon Applicators  \\\n",
              "0        0        0         0                           0   \n",
              "1        7        3         1                          12   \n",
              "2        0        0         0                           0   \n",
              "3        0        0         0                           0   \n",
              "4        0        0         0                           0   \n",
              "\n",
              "   Personal Hygiene (Clean Swell)  Gloves & Masks (PPE)  Foam Pieces  \\\n",
              "0                               0                     0            0   \n",
              "1                               0                     0          283   \n",
              "2                               0                     0            0   \n",
              "3                               2                     0            0   \n",
              "4                               0                     0            0   \n",
              "\n",
              "   Glass Pieces  Plastic Pieces  Total Items Collected  \n",
              "0             0               0                   11.0  \n",
              "1           179             192                 6445.0  \n",
              "2             0             250                  262.0  \n",
              "3             0            1251                 1302.0  \n",
              "4             0             250                  262.0  \n",
              "\n",
              "[5 rows x 65 columns]"
            ]
          },
          "metadata": {
            "tags": []
          },
          "execution_count": 17
        }
      ]
    },
    {
      "cell_type": "markdown",
      "metadata": {
        "id": "xAzEoWq0zWPi"
      },
      "source": [
        "# Data Cleaning"
      ]
    },
    {
      "cell_type": "markdown",
      "metadata": {
        "id": "-hnFtCrMzWPj"
      },
      "source": [
        "First, we will look at the features in this dataset, we can see there is the Cleanup ID, Zone, State, Country, GPS, etc."
      ]
    },
    {
      "cell_type": "code",
      "metadata": {
        "id": "jMhBxY51zWPk",
        "outputId": "605e9f67-421e-4efb-c1f3-e3fd9c0d2b0e"
      },
      "source": [
        "df.columns"
      ],
      "execution_count": null,
      "outputs": [
        {
          "output_type": "execute_result",
          "data": {
            "text/plain": [
              "Index(['Cleanup ID', 'Zone', 'State', 'Country', 'GPS', 'Cleanup Type',\n",
              "       'Cleanup Date', 'Group Name', 'Adults', 'Children', 'People', 'Pounds',\n",
              "       'Miles', '# of bags', 'Cigarette Butts',\n",
              "       'Food Wrappers (candy, chips, etc.)',\n",
              "       'Take Out/Away Containers (Plastic)', 'Take Out/Away Containers (Foam)',\n",
              "       'Bottle Caps (Plastic)', 'Bottle Caps (Metal)', 'Lids (Plastic)',\n",
              "       'Straws, Stirrers', 'Forks, Knives, Spoons',\n",
              "       'Beverage Bottles (Plastic)', 'Beverage Bottles (Glass)',\n",
              "       'Beverage Cans', 'Grocery Bags (Plastic)', 'Other Plastic Bags',\n",
              "       'Paper Bags', 'Cups, Plates (Paper)', 'Cups, Plates (Plastic)',\n",
              "       'Cups, Plates (Foam)', 'Fishing Buoys, Pots & Traps',\n",
              "       'Fishing Net & Pieces', 'Fishing Line (1 yard/meter = 1 piece)',\n",
              "       'Rope (1 yard/meter = 1 piece)', 'Fishing Gear (Clean Swell)',\n",
              "       '6-Pack Holders', 'Other Plastic/Foam Packaging',\n",
              "       'Other Plastic Bottles (oil, bleach, etc.)', 'Strapping Bands',\n",
              "       'Tobacco Packaging/Wrap', 'Other Packaging (Clean Swell)',\n",
              "       'Beverages Sachets', 'Appliances (refrigerators, washers, etc.)',\n",
              "       'Balloons', 'Cigar Tips', 'Cigarette Lighters',\n",
              "       'Construction Materials', 'Fireworks', 'Tires', 'Toys',\n",
              "       'Other Trash (Clean Swell)', 'E-cigarettes',\n",
              "       'Other tobacco (packaging, lighter, etc.)', 'Condoms', 'Diapers',\n",
              "       'Syringes', 'Tampons/Tampon Applicators',\n",
              "       'Personal Hygiene (Clean Swell)', 'Gloves & Masks (PPE)', 'Foam Pieces',\n",
              "       'Glass Pieces', 'Plastic Pieces', 'Total Items Collected'],\n",
              "      dtype='object')"
            ]
          },
          "metadata": {
            "tags": []
          },
          "execution_count": 18
        }
      ]
    },
    {
      "cell_type": "markdown",
      "metadata": {
        "id": "TYR1-9-PzWPk"
      },
      "source": [
        "Upon further investigation, we can see that many of the variables are in the int or float representations with a few as objects or strings. Manually looking at the dataset, it makes sense that a majority of the variables are integers, as many of the values are frequency of a type of pollution e.g. '# of bags' or 'Cigarette Butts'. "
      ]
    },
    {
      "cell_type": "code",
      "metadata": {
        "id": "l5GpI35DzWPl",
        "outputId": "cd37dfd4-f951-4e1f-83b9-54d6ee06391c"
      },
      "source": [
        "df.dtypes.value_counts()"
      ],
      "execution_count": null,
      "outputs": [
        {
          "output_type": "execute_result",
          "data": {
            "text/plain": [
              "int64      50\n",
              "object      8\n",
              "float64     7\n",
              "dtype: int64"
            ]
          },
          "metadata": {
            "tags": []
          },
          "execution_count": 19
        }
      ]
    },
    {
      "cell_type": "markdown",
      "metadata": {
        "id": "35jMFH8UzWPl"
      },
      "source": [
        "## Data Missingness"
      ]
    },
    {
      "cell_type": "markdown",
      "metadata": {
        "id": "l5ZIqHTLzWPm"
      },
      "source": [
        "First, we will investigate the null values, looking at the number of null values in each observation, or cleanup, and those in the dataset's features."
      ]
    },
    {
      "cell_type": "code",
      "metadata": {
        "id": "NvySHmB8zWPm",
        "outputId": "1cd9d5a5-0333-45bc-c446-b4e39b7215fb"
      },
      "source": [
        "null_rows = df[df.isnull().any(axis=1)]\n",
        "null_rows.shape"
      ],
      "execution_count": null,
      "outputs": [
        {
          "output_type": "execute_result",
          "data": {
            "text/plain": [
              "(5195, 65)"
            ]
          },
          "metadata": {
            "tags": []
          },
          "execution_count": 20
        }
      ]
    },
    {
      "cell_type": "code",
      "metadata": {
        "id": "eIIjLh7HzWPn",
        "outputId": "9309068b-7e80-43f4-b027-e23208d3219f"
      },
      "source": [
        "null_cols = df.columns[df.isnull().any()]\n",
        "null_cols"
      ],
      "execution_count": null,
      "outputs": [
        {
          "output_type": "execute_result",
          "data": {
            "text/plain": [
              "Index(['Zone', 'State', 'Country', 'GPS', 'Cleanup Type', 'Cleanup Date',\n",
              "       'Group Name', 'Adults', 'Children', 'People', 'Pounds', 'Miles',\n",
              "       '# of bags', 'Total Items Collected'],\n",
              "      dtype='object')"
            ]
          },
          "metadata": {
            "tags": []
          },
          "execution_count": 21
        }
      ]
    },
    {
      "cell_type": "code",
      "metadata": {
        "id": "3B-cS56JzWPn",
        "outputId": "b40f0ac3-5f4d-41b7-d689-f259f915a306"
      },
      "source": [
        "df[null_cols].isnull().sum()"
      ],
      "execution_count": null,
      "outputs": [
        {
          "output_type": "execute_result",
          "data": {
            "text/plain": [
              "Zone                        9\n",
              "State                       9\n",
              "Country                     1\n",
              "GPS                         1\n",
              "Cleanup Type                1\n",
              "Cleanup Date                1\n",
              "Group Name               5191\n",
              "Adults                      1\n",
              "Children                    1\n",
              "People                      1\n",
              "Pounds                      1\n",
              "Miles                       1\n",
              "# of bags                   1\n",
              "Total Items Collected       1\n",
              "dtype: int64"
            ]
          },
          "metadata": {
            "tags": []
          },
          "execution_count": 22
        }
      ]
    },
    {
      "cell_type": "markdown",
      "metadata": {
        "id": "pizXRyJQzWPo"
      },
      "source": [
        "Here, there are 14 of the features that have at least one missing value, 'Group Name' having the most missing values. With 'Group Name', we do not believe this will be incredibly relevant to our posed question. Because there are very few missing values in the other columns, we will simply drop the missing values for simplicity. "
      ]
    },
    {
      "cell_type": "code",
      "metadata": {
        "id": "zwbQh78yzWPo",
        "outputId": "0cfb1b49-9a7c-4bfd-9eb7-8add6ed28573"
      },
      "source": [
        "# dropping unnecessary columns: \n",
        "df = df.drop(labels=['Group Name'], axis=1)\n",
        "df.shape"
      ],
      "execution_count": null,
      "outputs": [
        {
          "output_type": "execute_result",
          "data": {
            "text/plain": [
              "(20086, 64)"
            ]
          },
          "metadata": {
            "tags": []
          },
          "execution_count": 23
        }
      ]
    },
    {
      "cell_type": "code",
      "metadata": {
        "id": "cSpS25dSzWPp",
        "outputId": "a1b2d330-8b81-4373-a923-e5161d298eaf"
      },
      "source": [
        "# very little missing data, so we will drop the columns with missing values\n",
        "missingdata = df.isna().sum()\n",
        "missingdata.head()\n",
        "\n",
        "df = df.dropna(axis=0).reset_index(drop=True)\n",
        "df.describe()"
      ],
      "execution_count": null,
      "outputs": [
        {
          "output_type": "execute_result",
          "data": {
            "text/html": [
              "<div>\n",
              "<style scoped>\n",
              "    .dataframe tbody tr th:only-of-type {\n",
              "        vertical-align: middle;\n",
              "    }\n",
              "\n",
              "    .dataframe tbody tr th {\n",
              "        vertical-align: top;\n",
              "    }\n",
              "\n",
              "    .dataframe thead th {\n",
              "        text-align: right;\n",
              "    }\n",
              "</style>\n",
              "<table border=\"1\" class=\"dataframe\">\n",
              "  <thead>\n",
              "    <tr style=\"text-align: right;\">\n",
              "      <th></th>\n",
              "      <th>Adults</th>\n",
              "      <th>Children</th>\n",
              "      <th>People</th>\n",
              "      <th>Pounds</th>\n",
              "      <th>Miles</th>\n",
              "      <th># of bags</th>\n",
              "      <th>Cigarette Butts</th>\n",
              "      <th>Food Wrappers (candy, chips, etc.)</th>\n",
              "      <th>Take Out/Away Containers (Plastic)</th>\n",
              "      <th>Take Out/Away Containers (Foam)</th>\n",
              "      <th>...</th>\n",
              "      <th>Condoms</th>\n",
              "      <th>Diapers</th>\n",
              "      <th>Syringes</th>\n",
              "      <th>Tampons/Tampon Applicators</th>\n",
              "      <th>Personal Hygiene (Clean Swell)</th>\n",
              "      <th>Gloves &amp; Masks (PPE)</th>\n",
              "      <th>Foam Pieces</th>\n",
              "      <th>Glass Pieces</th>\n",
              "      <th>Plastic Pieces</th>\n",
              "      <th>Total Items Collected</th>\n",
              "    </tr>\n",
              "  </thead>\n",
              "  <tbody>\n",
              "    <tr>\n",
              "      <th>count</th>\n",
              "      <td>20077.000000</td>\n",
              "      <td>20077.00000</td>\n",
              "      <td>20077.000000</td>\n",
              "      <td>20077.000000</td>\n",
              "      <td>20077.000000</td>\n",
              "      <td>20077.000000</td>\n",
              "      <td>20077.000000</td>\n",
              "      <td>20077.000000</td>\n",
              "      <td>20077.000000</td>\n",
              "      <td>20077.000000</td>\n",
              "      <td>...</td>\n",
              "      <td>20077.000000</td>\n",
              "      <td>20077.000000</td>\n",
              "      <td>20077.000000</td>\n",
              "      <td>20077.000000</td>\n",
              "      <td>20077.000000</td>\n",
              "      <td>20077.000000</td>\n",
              "      <td>20077.000000</td>\n",
              "      <td>20077.000000</td>\n",
              "      <td>20077.000000</td>\n",
              "      <td>20077.000000</td>\n",
              "    </tr>\n",
              "    <tr>\n",
              "      <th>mean</th>\n",
              "      <td>3.964188</td>\n",
              "      <td>0.32480</td>\n",
              "      <td>4.288987</td>\n",
              "      <td>92.701432</td>\n",
              "      <td>1.131988</td>\n",
              "      <td>2.962245</td>\n",
              "      <td>24.857349</td>\n",
              "      <td>12.143846</td>\n",
              "      <td>2.606415</td>\n",
              "      <td>1.433132</td>\n",
              "      <td>...</td>\n",
              "      <td>0.030831</td>\n",
              "      <td>0.034816</td>\n",
              "      <td>0.023260</td>\n",
              "      <td>0.053743</td>\n",
              "      <td>1.589580</td>\n",
              "      <td>1.386711</td>\n",
              "      <td>2.377198</td>\n",
              "      <td>1.065697</td>\n",
              "      <td>24.542511</td>\n",
              "      <td>136.390995</td>\n",
              "    </tr>\n",
              "    <tr>\n",
              "      <th>std</th>\n",
              "      <td>24.691491</td>\n",
              "      <td>5.90085</td>\n",
              "      <td>26.834194</td>\n",
              "      <td>2395.710077</td>\n",
              "      <td>28.682063</td>\n",
              "      <td>85.160284</td>\n",
              "      <td>112.109586</td>\n",
              "      <td>40.088129</td>\n",
              "      <td>9.629162</td>\n",
              "      <td>8.264842</td>\n",
              "      <td>...</td>\n",
              "      <td>0.706681</td>\n",
              "      <td>1.238951</td>\n",
              "      <td>0.630157</td>\n",
              "      <td>1.095486</td>\n",
              "      <td>6.507602</td>\n",
              "      <td>4.352584</td>\n",
              "      <td>27.900640</td>\n",
              "      <td>14.642186</td>\n",
              "      <td>107.281323</td>\n",
              "      <td>382.904062</td>\n",
              "    </tr>\n",
              "    <tr>\n",
              "      <th>min</th>\n",
              "      <td>0.000000</td>\n",
              "      <td>0.00000</td>\n",
              "      <td>0.000000</td>\n",
              "      <td>0.000000</td>\n",
              "      <td>0.000000</td>\n",
              "      <td>0.000000</td>\n",
              "      <td>0.000000</td>\n",
              "      <td>0.000000</td>\n",
              "      <td>0.000000</td>\n",
              "      <td>0.000000</td>\n",
              "      <td>...</td>\n",
              "      <td>0.000000</td>\n",
              "      <td>0.000000</td>\n",
              "      <td>0.000000</td>\n",
              "      <td>0.000000</td>\n",
              "      <td>0.000000</td>\n",
              "      <td>0.000000</td>\n",
              "      <td>0.000000</td>\n",
              "      <td>0.000000</td>\n",
              "      <td>0.000000</td>\n",
              "      <td>0.000000</td>\n",
              "    </tr>\n",
              "    <tr>\n",
              "      <th>25%</th>\n",
              "      <td>1.000000</td>\n",
              "      <td>0.00000</td>\n",
              "      <td>1.000000</td>\n",
              "      <td>1.780000</td>\n",
              "      <td>0.000000</td>\n",
              "      <td>0.000000</td>\n",
              "      <td>0.000000</td>\n",
              "      <td>0.000000</td>\n",
              "      <td>0.000000</td>\n",
              "      <td>0.000000</td>\n",
              "      <td>...</td>\n",
              "      <td>0.000000</td>\n",
              "      <td>0.000000</td>\n",
              "      <td>0.000000</td>\n",
              "      <td>0.000000</td>\n",
              "      <td>0.000000</td>\n",
              "      <td>0.000000</td>\n",
              "      <td>0.000000</td>\n",
              "      <td>0.000000</td>\n",
              "      <td>0.000000</td>\n",
              "      <td>1.000000</td>\n",
              "    </tr>\n",
              "    <tr>\n",
              "      <th>50%</th>\n",
              "      <td>1.000000</td>\n",
              "      <td>0.00000</td>\n",
              "      <td>1.000000</td>\n",
              "      <td>5.170000</td>\n",
              "      <td>0.051200</td>\n",
              "      <td>0.000000</td>\n",
              "      <td>1.000000</td>\n",
              "      <td>2.000000</td>\n",
              "      <td>0.000000</td>\n",
              "      <td>0.000000</td>\n",
              "      <td>...</td>\n",
              "      <td>0.000000</td>\n",
              "      <td>0.000000</td>\n",
              "      <td>0.000000</td>\n",
              "      <td>0.000000</td>\n",
              "      <td>0.000000</td>\n",
              "      <td>0.000000</td>\n",
              "      <td>0.000000</td>\n",
              "      <td>0.000000</td>\n",
              "      <td>1.000000</td>\n",
              "      <td>39.000000</td>\n",
              "    </tr>\n",
              "    <tr>\n",
              "      <th>75%</th>\n",
              "      <td>2.000000</td>\n",
              "      <td>0.00000</td>\n",
              "      <td>2.000000</td>\n",
              "      <td>15.000000</td>\n",
              "      <td>0.629800</td>\n",
              "      <td>0.000000</td>\n",
              "      <td>14.000000</td>\n",
              "      <td>11.000000</td>\n",
              "      <td>2.000000</td>\n",
              "      <td>1.000000</td>\n",
              "      <td>...</td>\n",
              "      <td>0.000000</td>\n",
              "      <td>0.000000</td>\n",
              "      <td>0.000000</td>\n",
              "      <td>0.000000</td>\n",
              "      <td>1.000000</td>\n",
              "      <td>1.000000</td>\n",
              "      <td>0.000000</td>\n",
              "      <td>0.000000</td>\n",
              "      <td>16.000000</td>\n",
              "      <td>146.000000</td>\n",
              "    </tr>\n",
              "    <tr>\n",
              "      <th>max</th>\n",
              "      <td>1773.000000</td>\n",
              "      <td>539.00000</td>\n",
              "      <td>1773.000000</td>\n",
              "      <td>216000.000000</td>\n",
              "      <td>2790.017300</td>\n",
              "      <td>9760.000000</td>\n",
              "      <td>5385.000000</td>\n",
              "      <td>2000.000000</td>\n",
              "      <td>400.000000</td>\n",
              "      <td>500.000000</td>\n",
              "      <td>...</td>\n",
              "      <td>54.000000</td>\n",
              "      <td>150.000000</td>\n",
              "      <td>42.000000</td>\n",
              "      <td>96.000000</td>\n",
              "      <td>400.000000</td>\n",
              "      <td>164.000000</td>\n",
              "      <td>1355.000000</td>\n",
              "      <td>981.000000</td>\n",
              "      <td>5238.000000</td>\n",
              "      <td>22765.000000</td>\n",
              "    </tr>\n",
              "  </tbody>\n",
              "</table>\n",
              "<p>8 rows × 57 columns</p>\n",
              "</div>"
            ],
            "text/plain": [
              "             Adults     Children        People         Pounds         Miles  \\\n",
              "count  20077.000000  20077.00000  20077.000000   20077.000000  20077.000000   \n",
              "mean       3.964188      0.32480      4.288987      92.701432      1.131988   \n",
              "std       24.691491      5.90085     26.834194    2395.710077     28.682063   \n",
              "min        0.000000      0.00000      0.000000       0.000000      0.000000   \n",
              "25%        1.000000      0.00000      1.000000       1.780000      0.000000   \n",
              "50%        1.000000      0.00000      1.000000       5.170000      0.051200   \n",
              "75%        2.000000      0.00000      2.000000      15.000000      0.629800   \n",
              "max     1773.000000    539.00000   1773.000000  216000.000000   2790.017300   \n",
              "\n",
              "          # of bags  Cigarette Butts  Food Wrappers (candy, chips, etc.)  \\\n",
              "count  20077.000000     20077.000000                        20077.000000   \n",
              "mean       2.962245        24.857349                           12.143846   \n",
              "std       85.160284       112.109586                           40.088129   \n",
              "min        0.000000         0.000000                            0.000000   \n",
              "25%        0.000000         0.000000                            0.000000   \n",
              "50%        0.000000         1.000000                            2.000000   \n",
              "75%        0.000000        14.000000                           11.000000   \n",
              "max     9760.000000      5385.000000                         2000.000000   \n",
              "\n",
              "       Take Out/Away Containers (Plastic)  Take Out/Away Containers (Foam)  \\\n",
              "count                        20077.000000                     20077.000000   \n",
              "mean                             2.606415                         1.433132   \n",
              "std                              9.629162                         8.264842   \n",
              "min                              0.000000                         0.000000   \n",
              "25%                              0.000000                         0.000000   \n",
              "50%                              0.000000                         0.000000   \n",
              "75%                              2.000000                         1.000000   \n",
              "max                            400.000000                       500.000000   \n",
              "\n",
              "       ...       Condoms       Diapers      Syringes  \\\n",
              "count  ...  20077.000000  20077.000000  20077.000000   \n",
              "mean   ...      0.030831      0.034816      0.023260   \n",
              "std    ...      0.706681      1.238951      0.630157   \n",
              "min    ...      0.000000      0.000000      0.000000   \n",
              "25%    ...      0.000000      0.000000      0.000000   \n",
              "50%    ...      0.000000      0.000000      0.000000   \n",
              "75%    ...      0.000000      0.000000      0.000000   \n",
              "max    ...     54.000000    150.000000     42.000000   \n",
              "\n",
              "       Tampons/Tampon Applicators  Personal Hygiene (Clean Swell)  \\\n",
              "count                20077.000000                    20077.000000   \n",
              "mean                     0.053743                        1.589580   \n",
              "std                      1.095486                        6.507602   \n",
              "min                      0.000000                        0.000000   \n",
              "25%                      0.000000                        0.000000   \n",
              "50%                      0.000000                        0.000000   \n",
              "75%                      0.000000                        1.000000   \n",
              "max                     96.000000                      400.000000   \n",
              "\n",
              "       Gloves & Masks (PPE)   Foam Pieces  Glass Pieces  Plastic Pieces  \\\n",
              "count          20077.000000  20077.000000  20077.000000    20077.000000   \n",
              "mean               1.386711      2.377198      1.065697       24.542511   \n",
              "std                4.352584     27.900640     14.642186      107.281323   \n",
              "min                0.000000      0.000000      0.000000        0.000000   \n",
              "25%                0.000000      0.000000      0.000000        0.000000   \n",
              "50%                0.000000      0.000000      0.000000        1.000000   \n",
              "75%                1.000000      0.000000      0.000000       16.000000   \n",
              "max              164.000000   1355.000000    981.000000     5238.000000   \n",
              "\n",
              "       Total Items Collected  \n",
              "count           20077.000000  \n",
              "mean              136.390995  \n",
              "std               382.904062  \n",
              "min                 0.000000  \n",
              "25%                 1.000000  \n",
              "50%                39.000000  \n",
              "75%               146.000000  \n",
              "max             22765.000000  \n",
              "\n",
              "[8 rows x 57 columns]"
            ]
          },
          "metadata": {
            "tags": []
          },
          "execution_count": 24
        }
      ]
    },
    {
      "cell_type": "markdown",
      "metadata": {
        "id": "cvo4SF5xzWPp"
      },
      "source": [
        "## Features"
      ]
    },
    {
      "cell_type": "markdown",
      "metadata": {
        "id": "72DNH8NszWPp"
      },
      "source": [
        "Here, we have constructed a feature that determines if the cleanup occurred before or on/after the start of COVID-19 (March 11, 2020)."
      ]
    },
    {
      "cell_type": "code",
      "metadata": {
        "id": "8tXYuNf2zWPq"
      },
      "source": [
        "df['After_Covid'] = df['Cleanup Date'].apply(lambda x: x >= '2020-03-11')"
      ],
      "execution_count": null,
      "outputs": []
    },
    {
      "cell_type": "markdown",
      "metadata": {
        "id": "5JqOqfs0zWPq"
      },
      "source": [
        "We will convert the 'Cleanup Date' feature to a datetime object. This representation will be useful for our analysis."
      ]
    },
    {
      "cell_type": "code",
      "metadata": {
        "id": "VFw9JEoUzWPr",
        "outputId": "23b27d1c-ab63-490c-a339-68fcad94cafb"
      },
      "source": [
        "df['Cleanup Date'] = df['Cleanup Date'].apply(lambda x: datetime.strptime(str(x), '%Y-%m-%d'))\n",
        "df['Cleanup Date'].dtype"
      ],
      "execution_count": null,
      "outputs": [
        {
          "output_type": "execute_result",
          "data": {
            "text/plain": [
              "dtype('<M8[ns]')"
            ]
          },
          "metadata": {
            "tags": []
          },
          "execution_count": 26
        }
      ]
    },
    {
      "cell_type": "markdown",
      "metadata": {
        "id": "Ibo9ls6mzWPs"
      },
      "source": [
        "# Data Analysis & Results"
      ]
    },
    {
      "cell_type": "markdown",
      "metadata": {
        "id": "5tMCYIwjzWPs"
      },
      "source": [
        "## 'Cleanup Type'"
      ]
    },
    {
      "cell_type": "markdown",
      "metadata": {
        "id": "6o95Brx-zWPs"
      },
      "source": [
        "First, we are looking at the type of Cleanup with the feature 'Cleanup Type'. "
      ]
    },
    {
      "cell_type": "code",
      "metadata": {
        "id": "UECzvOtHzWPs",
        "outputId": "9d9ec410-86ed-4e2f-c3f1-ff683c4f1a86"
      },
      "source": [
        "df['Cleanup Type'].unique()"
      ],
      "execution_count": null,
      "outputs": [
        {
          "output_type": "execute_result",
          "data": {
            "text/plain": [
              "array(['Land (beach, shoreline and inland)', 'Underwater',\n",
              "       'Watercraft (powerboat, sailboat, kayak or canoe)'], dtype=object)"
            ]
          },
          "metadata": {
            "tags": []
          },
          "execution_count": 27
        }
      ]
    },
    {
      "cell_type": "markdown",
      "metadata": {
        "id": "7s0KcTEczWPs"
      },
      "source": [
        "With this feature, we can see that a majority of the cleanups occurred on land rather than on water. "
      ]
    },
    {
      "cell_type": "code",
      "metadata": {
        "id": "1quHzFr5zWPt",
        "outputId": "4b3ee568-cc27-4c9d-bf0b-ea6f7a8d1a61"
      },
      "source": [
        "ax = pd.DataFrame(df.groupby('Cleanup Type')['Gloves & Masks (PPE)'].agg(sum)).plot.bar();"
      ],
      "execution_count": null,
      "outputs": [
        {
          "output_type": "display_data",
          "data": {
            "image/png": "[encoded data removed]",
            "text/plain": [
              "<Figure size 432x288 with 1 Axes>"
            ]
          },
          "metadata": {
            "tags": [],
            "needs_background": "light"
          }
        }
      ]
    },
    {
      "cell_type": "markdown",
      "metadata": {
        "id": "zqWRuRbnzWPt"
      },
      "source": [
        "## 'Gloves & Masks (PPE)'"
      ]
    },
    {
      "cell_type": "code",
      "metadata": {
        "id": "rXu2CQ3nzWPu",
        "outputId": "698c5993-9b7f-48a1-bbb5-49ebc20a1f70"
      },
      "source": [
        "df.describe()['Gloves & Masks (PPE)']"
      ],
      "execution_count": null,
      "outputs": [
        {
          "output_type": "execute_result",
          "data": {
            "text/plain": [
              "count    20077.000000\n",
              "mean         1.386711\n",
              "std          4.352584\n",
              "min          0.000000\n",
              "25%          0.000000\n",
              "50%          0.000000\n",
              "75%          1.000000\n",
              "max        164.000000\n",
              "Name: Gloves & Masks (PPE), dtype: float64"
            ]
          },
          "metadata": {
            "tags": []
          },
          "execution_count": 29
        }
      ]
    },
    {
      "cell_type": "markdown",
      "metadata": {
        "id": "wQqn0GpPzWPu"
      },
      "source": [
        "With the statistics from the describe feature, we the distributions of the features; focusing on the 'Gloves & Masks (PPE)' features specifically, we can see the general distribution of the points. With the average being 2.772180 and the max being 27841.000000, we would like to investigate this further."
      ]
    },
    {
      "cell_type": "code",
      "metadata": {
        "id": "PTeV-eZuzWPu",
        "outputId": "b3c5d262-830d-4551-f55a-59c835bbb765"
      },
      "source": [
        "ax = df[['Gloves & Masks (PPE)']].plot();\n",
        "\n",
        "ax.set_xlabel('Count');\n",
        "ax.set_ylabel('Frequency');"
      ],
      "execution_count": null,
      "outputs": [
        {
          "output_type": "display_data",
          "data": {
            "image/png": "[encoded data removed]",
            "text/plain": [
              "<Figure size 432x288 with 1 Axes>"
            ]
          },
          "metadata": {
            "tags": [],
            "needs_background": "light"
          }
        }
      ]
    },
    {
      "cell_type": "code",
      "metadata": {
        "id": "JHn6_5NWzWPv",
        "outputId": "720fde67-429f-4ccd-d1dc-1eca35118c66"
      },
      "source": [
        "ax = df[['Gloves & Masks (PPE)']].boxplot();\n",
        "ax.set_ylabel('Frequency');"
      ],
      "execution_count": null,
      "outputs": [
        {
          "output_type": "display_data",
          "data": {
            "image/png": "[encoded data removed]",
            "text/plain": [
              "<Figure size 432x288 with 1 Axes>"
            ]
          },
          "metadata": {
            "tags": [],
            "needs_background": "light"
          }
        }
      ]
    },
    {
      "cell_type": "markdown",
      "metadata": {
        "id": "xhqvNuOpzWPv"
      },
      "source": [
        "From these plots of the feature, we can see that there is one distinguishable outlier."
      ]
    },
    {
      "cell_type": "code",
      "metadata": {
        "id": "Kf9YQ7YTzWPw",
        "outputId": "92475bae-7273-460c-fc2a-ba7f4e6729ce"
      },
      "source": [
        "ax = df[df['Gloves & Masks (PPE)'] < 27840][['Gloves & Masks (PPE)']].boxplot();\n",
        "ax.set_ylabel('Frequency')"
      ],
      "execution_count": null,
      "outputs": [
        {
          "output_type": "execute_result",
          "data": {
            "text/plain": [
              "Text(0, 0.5, 'Frequency')"
            ]
          },
          "metadata": {
            "tags": []
          },
          "execution_count": 72
        },
        {
          "output_type": "display_data",
          "data": {
            "image/png": "[encoded data removed]",
            "text/plain": [
              "<Figure size 432x288 with 1 Axes>"
            ]
          },
          "metadata": {
            "tags": [],
            "needs_background": "light"
          }
        }
      ]
    },
    {
      "cell_type": "markdown",
      "metadata": {
        "id": "BAgt7ZKJzWPw"
      },
      "source": [
        "With the omission of the Cleanup with a PPE count of 27841, we have produced another box and whisker plot. While there are still notable outliers, we have a clearer view of the distribution (right or positively skewed) and can see that while the median = 0 and the mean = 2.772180, there are still points that are greater than 0 or 1 in the overall distribution."
      ]
    },
    {
      "cell_type": "code",
      "metadata": {
        "id": "jFgNzvJ6zWPw",
        "outputId": "19a989f4-1dcc-4bc9-f96d-20c927839b82"
      },
      "source": [
        "ax = pd.DataFrame(df['Gloves & Masks (PPE)'].value_counts()).plot(title='Plot of PPE frequencies');\n",
        "ax.set_xlabel('PPE Yield')\n",
        "ax.set_ylabel('Frequency')"
      ],
      "execution_count": null,
      "outputs": [
        {
          "output_type": "execute_result",
          "data": {
            "text/plain": [
              "Text(0, 0.5, 'Frequency')"
            ]
          },
          "metadata": {
            "tags": []
          },
          "execution_count": 73
        },
        {
          "output_type": "display_data",
          "data": {
            "image/png": "[encoded data removed]",
            "text/plain": [
              "<Figure size 432x288 with 1 Axes>"
            ]
          },
          "metadata": {
            "tags": [],
            "needs_background": "light"
          }
        }
      ]
    },
    {
      "cell_type": "markdown",
      "metadata": {
        "id": "yeKDBhRuzWPx"
      },
      "source": [
        "This plot describes the amount of times the frequency of PPE has occurred e.g. How many times did a cleanup yield 0 amounts of PPE. From this plot, we can gather that most Cleanups yielded 0, or no PPE in the collection. This is logical and in accordance with the median = 0."
      ]
    },
    {
      "cell_type": "markdown",
      "metadata": {
        "id": "C8bptYH9zWPz"
      },
      "source": [
        "## Further Refinement"
      ]
    },
    {
      "cell_type": "markdown",
      "metadata": {
        "id": "oai7RXKszWPz"
      },
      "source": [
        "Here, we will be focusing on these features, including the ones constructed:\n",
        "\n",
        "- **'Cleanup Date':** \n",
        "    - the date of the cleanup \n",
        "    - datetime object\n",
        "    - ordinal\n",
        "- **'People'**\n",
        "    - number of people at the cleanup\n",
        "    - float\n",
        "    - discrete nominal\n",
        "- **'Gloves & Masks (PPE)':** \n",
        "    - frequency of PPE in the cleanup \n",
        "    - integer\n",
        "    - discrete nominal\n",
        "- **'State':** \n",
        "    - the state where the cleanup was held \n",
        "    - object or string\n",
        "    - categorical\n",
        "- **'PPE_People'**\n",
        "    - The rate of PPE collected per person\n",
        "    - float\n",
        "    - nominal\n",
        "- **'After_Covid'**\n",
        "    - states whether the cleanup occurred on/after the start of COVID-19\n",
        "    - boolean"
      ]
    },
    {
      "cell_type": "code",
      "metadata": {
        "id": "1RID-UdJzWPz",
        "outputId": "5dfda189-55fe-4f5b-b1ab-511c6fa1e8cb"
      },
      "source": [
        "df['PPE_People'] = df['Gloves & Masks (PPE)']/df['People']\n",
        "features = ['Cleanup Date', 'People', 'Gloves & Masks (PPE)', 'PPE_People', 'State', 'After_Covid']\n",
        "data = df[features]\n",
        "data.head()"
      ],
      "execution_count": null,
      "outputs": [
        {
          "output_type": "execute_result",
          "data": {
            "text/html": [
              "<div>\n",
              "<style scoped>\n",
              "    .dataframe tbody tr th:only-of-type {\n",
              "        vertical-align: middle;\n",
              "    }\n",
              "\n",
              "    .dataframe tbody tr th {\n",
              "        vertical-align: top;\n",
              "    }\n",
              "\n",
              "    .dataframe thead th {\n",
              "        text-align: right;\n",
              "    }\n",
              "</style>\n",
              "<table border=\"1\" class=\"dataframe\">\n",
              "  <thead>\n",
              "    <tr style=\"text-align: right;\">\n",
              "      <th></th>\n",
              "      <th>Cleanup Date</th>\n",
              "      <th>People</th>\n",
              "      <th>Gloves &amp; Masks (PPE)</th>\n",
              "      <th>PPE_People</th>\n",
              "      <th>State</th>\n",
              "      <th>After_Covid</th>\n",
              "    </tr>\n",
              "  </thead>\n",
              "  <tbody>\n",
              "    <tr>\n",
              "      <th>0</th>\n",
              "      <td>2020-06-22</td>\n",
              "      <td>1.0</td>\n",
              "      <td>0</td>\n",
              "      <td>0.0</td>\n",
              "      <td>Michigan, USA</td>\n",
              "      <td>True</td>\n",
              "    </tr>\n",
              "    <tr>\n",
              "      <th>1</th>\n",
              "      <td>2020-12-24</td>\n",
              "      <td>2.0</td>\n",
              "      <td>0</td>\n",
              "      <td>0.0</td>\n",
              "      <td>Texas, USA</td>\n",
              "      <td>True</td>\n",
              "    </tr>\n",
              "    <tr>\n",
              "      <th>2</th>\n",
              "      <td>2020-12-24</td>\n",
              "      <td>2.0</td>\n",
              "      <td>0</td>\n",
              "      <td>0.0</td>\n",
              "      <td>Texas, USA</td>\n",
              "      <td>True</td>\n",
              "    </tr>\n",
              "    <tr>\n",
              "      <th>3</th>\n",
              "      <td>2020-12-24</td>\n",
              "      <td>2.0</td>\n",
              "      <td>0</td>\n",
              "      <td>0.0</td>\n",
              "      <td>Texas, USA</td>\n",
              "      <td>True</td>\n",
              "    </tr>\n",
              "    <tr>\n",
              "      <th>4</th>\n",
              "      <td>2020-12-27</td>\n",
              "      <td>1.0</td>\n",
              "      <td>0</td>\n",
              "      <td>0.0</td>\n",
              "      <td>Washington, USA</td>\n",
              "      <td>True</td>\n",
              "    </tr>\n",
              "  </tbody>\n",
              "</table>\n",
              "</div>"
            ],
            "text/plain": [
              "  Cleanup Date  People  Gloves & Masks (PPE)  PPE_People            State  \\\n",
              "0   2020-06-22     1.0                     0         0.0    Michigan, USA   \n",
              "1   2020-12-24     2.0                     0         0.0       Texas, USA   \n",
              "2   2020-12-24     2.0                     0         0.0       Texas, USA   \n",
              "3   2020-12-24     2.0                     0         0.0       Texas, USA   \n",
              "4   2020-12-27     1.0                     0         0.0  Washington, USA   \n",
              "\n",
              "   After_Covid  \n",
              "0         True  \n",
              "1         True  \n",
              "2         True  \n",
              "3         True  \n",
              "4         True  "
            ]
          },
          "metadata": {
            "tags": []
          },
          "execution_count": 34
        }
      ]
    },
    {
      "cell_type": "code",
      "metadata": {
        "id": "woB1XrxVzWP0",
        "outputId": "092f49d0-2104-4c10-8d46-ac431e1e36e8"
      },
      "source": [
        "data.describe()"
      ],
      "execution_count": null,
      "outputs": [
        {
          "output_type": "execute_result",
          "data": {
            "text/html": [
              "<div>\n",
              "<style scoped>\n",
              "    .dataframe tbody tr th:only-of-type {\n",
              "        vertical-align: middle;\n",
              "    }\n",
              "\n",
              "    .dataframe tbody tr th {\n",
              "        vertical-align: top;\n",
              "    }\n",
              "\n",
              "    .dataframe thead th {\n",
              "        text-align: right;\n",
              "    }\n",
              "</style>\n",
              "<table border=\"1\" class=\"dataframe\">\n",
              "  <thead>\n",
              "    <tr style=\"text-align: right;\">\n",
              "      <th></th>\n",
              "      <th>People</th>\n",
              "      <th>Gloves &amp; Masks (PPE)</th>\n",
              "      <th>PPE_People</th>\n",
              "    </tr>\n",
              "  </thead>\n",
              "  <tbody>\n",
              "    <tr>\n",
              "      <th>count</th>\n",
              "      <td>20077.000000</td>\n",
              "      <td>20077.000000</td>\n",
              "      <td>20018.0</td>\n",
              "    </tr>\n",
              "    <tr>\n",
              "      <th>mean</th>\n",
              "      <td>4.288987</td>\n",
              "      <td>1.386711</td>\n",
              "      <td>inf</td>\n",
              "    </tr>\n",
              "    <tr>\n",
              "      <th>std</th>\n",
              "      <td>26.834194</td>\n",
              "      <td>4.352584</td>\n",
              "      <td>NaN</td>\n",
              "    </tr>\n",
              "    <tr>\n",
              "      <th>min</th>\n",
              "      <td>0.000000</td>\n",
              "      <td>0.000000</td>\n",
              "      <td>0.0</td>\n",
              "    </tr>\n",
              "    <tr>\n",
              "      <th>25%</th>\n",
              "      <td>1.000000</td>\n",
              "      <td>0.000000</td>\n",
              "      <td>0.0</td>\n",
              "    </tr>\n",
              "    <tr>\n",
              "      <th>50%</th>\n",
              "      <td>1.000000</td>\n",
              "      <td>0.000000</td>\n",
              "      <td>0.0</td>\n",
              "    </tr>\n",
              "    <tr>\n",
              "      <th>75%</th>\n",
              "      <td>2.000000</td>\n",
              "      <td>1.000000</td>\n",
              "      <td>0.5</td>\n",
              "    </tr>\n",
              "    <tr>\n",
              "      <th>max</th>\n",
              "      <td>1773.000000</td>\n",
              "      <td>164.000000</td>\n",
              "      <td>inf</td>\n",
              "    </tr>\n",
              "  </tbody>\n",
              "</table>\n",
              "</div>"
            ],
            "text/plain": [
              "             People  Gloves & Masks (PPE)  PPE_People\n",
              "count  20077.000000          20077.000000     20018.0\n",
              "mean       4.288987              1.386711         inf\n",
              "std       26.834194              4.352584         NaN\n",
              "min        0.000000              0.000000         0.0\n",
              "25%        1.000000              0.000000         0.0\n",
              "50%        1.000000              0.000000         0.0\n",
              "75%        2.000000              1.000000         0.5\n",
              "max     1773.000000            164.000000         inf"
            ]
          },
          "metadata": {
            "tags": []
          },
          "execution_count": 35
        }
      ]
    },
    {
      "cell_type": "code",
      "metadata": {
        "id": "6CVGGDnszWP0",
        "outputId": "df9c3244-8e99-4d9d-e48b-93f1ab76fba6"
      },
      "source": [
        "data.dtypes"
      ],
      "execution_count": null,
      "outputs": [
        {
          "output_type": "execute_result",
          "data": {
            "text/plain": [
              "Cleanup Date            datetime64[ns]\n",
              "People                         float64\n",
              "Gloves & Masks (PPE)             int64\n",
              "PPE_People                     float64\n",
              "State                           object\n",
              "After_Covid                       bool\n",
              "dtype: object"
            ]
          },
          "metadata": {
            "tags": []
          },
          "execution_count": 36
        }
      ]
    },
    {
      "cell_type": "markdown",
      "metadata": {
        "id": "JbvFPLsvzWP0"
      },
      "source": [
        "From these statistics, we can see that the average amount of PPE found was ~1.5 and the median was 0: this indicates that while there is PPE, it doesn't seem to constitute a lot of the clean ups. However, we will investigate this phenomenon further."
      ]
    },
    {
      "cell_type": "code",
      "metadata": {
        "id": "s0pz_AR2zWP0",
        "outputId": "2364cf0f-5574-488f-b58b-01277e5afeb6"
      },
      "source": [
        "data['Gloves & Masks (PPE)'].sum()"
      ],
      "execution_count": null,
      "outputs": [
        {
          "output_type": "execute_result",
          "data": {
            "text/plain": [
              "27841"
            ]
          },
          "metadata": {
            "tags": []
          },
          "execution_count": 37
        }
      ]
    },
    {
      "cell_type": "markdown",
      "metadata": {
        "id": "2O7WzmrdzWP1"
      },
      "source": [
        "## PPE vs. Time"
      ]
    },
    {
      "cell_type": "code",
      "metadata": {
        "id": "k98RviO1zWP1",
        "outputId": "c964f5a3-0a85-4621-f9fe-b51bfd6fffcb"
      },
      "source": [
        "# Plot for PPE Count as Time progresses\n",
        "plt.xlabel('Date')\n",
        "plt.ylabel('PPE Count')\n",
        "plt.plot(data.groupby('Cleanup Date')['Gloves & Masks (PPE)'].apply(sum));"
      ],
      "execution_count": null,
      "outputs": [
        {
          "output_type": "display_data",
          "data": {
            "image/png": "[encoded data removed]",
            "text/plain": [
              "<Figure size 432x288 with 1 Axes>"
            ]
          },
          "metadata": {
            "tags": [],
            "needs_background": "light"
          }
        }
      ]
    },
    {
      "cell_type": "markdown",
      "metadata": {
        "id": "OT1J8pM5zWP1"
      },
      "source": [
        "## People vs. Time"
      ]
    },
    {
      "cell_type": "code",
      "metadata": {
        "id": "XI8tWS3GzWP2",
        "outputId": "e589dae7-8840-4e25-9316-0ed4062a7636"
      },
      "source": [
        "# Plot for People as Time progresses\n",
        "plt.xlabel('Date')\n",
        "plt.ylabel('People')\n",
        "plt.plot(data.groupby('Cleanup Date')['People'].apply(sum));"
      ],
      "execution_count": null,
      "outputs": [
        {
          "output_type": "display_data",
          "data": {
            "image/png": "[encoded data removed]",
            "text/plain": [
              "<Figure size 432x288 with 1 Axes>"
            ]
          },
          "metadata": {
            "tags": [],
            "needs_background": "light"
          }
        }
      ]
    },
    {
      "cell_type": "markdown",
      "metadata": {
        "id": "oTnY5Oe1zWP3"
      },
      "source": [
        "## PPE/people vs. Time"
      ]
    },
    {
      "cell_type": "code",
      "metadata": {
        "id": "XFy4AxaFzWP3",
        "outputId": "7264dc44-7137-460f-c1a9-7c88e588fa69"
      },
      "source": [
        "# Plot for PPE Count/Person as Time progresses\n",
        "plt.xlabel('Date')\n",
        "plt.ylabel('PPE Count/Person')\n",
        "plt.plot(data.groupby('Cleanup Date')['PPE_People'].apply(sum));"
      ],
      "execution_count": null,
      "outputs": [
        {
          "output_type": "display_data",
          "data": {
            "image/png": "[encoded data removed]",
            "text/plain": [
              "<Figure size 432x288 with 1 Axes>"
            ]
          },
          "metadata": {
            "tags": [],
            "needs_background": "light"
          }
        }
      ]
    },
    {
      "cell_type": "markdown",
      "metadata": {
        "id": "rliae1XzzWP3"
      },
      "source": [
        "## Plots vs. Time"
      ]
    },
    {
      "cell_type": "markdown",
      "metadata": {
        "id": "UYxVfsoYzWP3"
      },
      "source": [
        "From the three plots above, we can see there is an increase in the amount of PPE collected from cleanups. From the second plot, we can see that as time progressed, there are more collectors participating. While it is logical for more PPE to be collected with more volunteers, we can see that the rate of PPE collected per person also increases, similar to the original PPE count per Cleanup. As such, we have reason to believe that there has been an increase in PPE."
      ]
    },
    {
      "cell_type": "markdown",
      "metadata": {
        "id": "tXopb278zWP4"
      },
      "source": [
        "## Before and After the Start of COVID-19"
      ]
    },
    {
      "cell_type": "markdown",
      "metadata": {
        "id": "-w8I5ZJuzWP4"
      },
      "source": [
        "We will look at the data from before COVID-19 and on/after COVID-19 to gain a better understanding of the dataset and the relationships within it."
      ]
    },
    {
      "cell_type": "code",
      "metadata": {
        "id": "lk8ofdL4zWP4"
      },
      "source": [
        "before = data.loc[data['After_Covid'] == False]\n",
        "after = data.loc[data['After_Covid']]"
      ],
      "execution_count": null,
      "outputs": []
    },
    {
      "cell_type": "code",
      "metadata": {
        "id": "Y8InV1cMzWP5",
        "outputId": "369ec1e5-a02a-4d6e-f87e-3568daf274ac"
      },
      "source": [
        "# Plot to compare the masks from before COVID-19 and after\n",
        "ax = pd.DataFrame(data.groupby('After_Covid')['Gloves & Masks (PPE)'].agg(sum)).plot.bar();\n",
        "ax.set_ylabel('Count');"
      ],
      "execution_count": null,
      "outputs": [
        {
          "output_type": "display_data",
          "data": {
            "image/png": "[encoded data removed]",
            "text/plain": [
              "<Figure size 432x288 with 1 Axes>"
            ]
          },
          "metadata": {
            "tags": [],
            "needs_background": "light"
          }
        }
      ]
    },
    {
      "cell_type": "markdown",
      "metadata": {
        "id": "QAiUOrXezWP5"
      },
      "source": [
        "This plot indicates that there is a possible correlation between COVID-19 and PPE waste."
      ]
    },
    {
      "cell_type": "code",
      "metadata": {
        "id": "jxr-vnNtzWP5",
        "outputId": "3201c0d0-12c2-4429-f7ef-2f9bf4b39343"
      },
      "source": [
        "plt.xlabel('Date (Before COVID-19)')\n",
        "plt.xticks(rotation = 45)\n",
        "plt.ylabel('PPE count')\n",
        "plt.plot(before.groupby('Cleanup Date')['Gloves & Masks (PPE)'].apply(sum));"
      ],
      "execution_count": null,
      "outputs": [
        {
          "output_type": "display_data",
          "data": {
            "image/png": "[encoded data removed]",
            "text/plain": [
              "<Figure size 432x288 with 1 Axes>"
            ]
          },
          "metadata": {
            "tags": [],
            "needs_background": "light"
          }
        }
      ]
    },
    {
      "cell_type": "code",
      "metadata": {
        "id": "41y_CKR-zWP6",
        "outputId": "1d99f60b-9897-4526-8eec-7e91bd60a88b"
      },
      "source": [
        "plt.xlabel('Date (After COVID-19)')\n",
        "plt.xticks(rotation = 45)\n",
        "plt.ylabel('PPE count')\n",
        "plt.plot(after.groupby('Cleanup Date')['Gloves & Masks (PPE)'].apply(sum));"
      ],
      "execution_count": null,
      "outputs": [
        {
          "output_type": "display_data",
          "data": {
            "image/png": "[encoded data removed]",
            "text/plain": [
              "<Figure size 432x288 with 1 Axes>"
            ]
          },
          "metadata": {
            "tags": [],
            "needs_background": "light"
          }
        }
      ]
    },
    {
      "cell_type": "markdown",
      "metadata": {
        "id": "rG1xdF3-zWP6"
      },
      "source": [
        "By refining the granularity to before and after the declaration of the COVID-19 pandemic, we are able to see the general trends that were occuring in these specified time periods. For instance, we can see that generally, there were no PPE collected, with only an occurence of one item. Compared to the second plot post-COVID-19, we can see that there are several more spikes, one even going farther than 4,000. As such, it is very possible that the COVID-19 measures could be related to the trends of PPE counts."
      ]
    },
    {
      "cell_type": "markdown",
      "metadata": {
        "id": "XjExAId2zWP7"
      },
      "source": [
        "## t-test\n",
        "\n",
        "Here, we have conducted a t-test, with the significance level = 0.01, to compare the distribution of points before and after the start of COVID-19; however, because of the limitations of the size of our dataset (especially of the points prior), we will take this into consideration when evaluating results."
      ]
    },
    {
      "cell_type": "code",
      "metadata": {
        "id": "9pTwIGIYzWP7",
        "outputId": "37ed16f3-a577-4665-8e36-6c96b493b29e"
      },
      "source": [
        "before['PPE_People'].shape"
      ],
      "execution_count": null,
      "outputs": [
        {
          "output_type": "execute_result",
          "data": {
            "text/plain": [
              "(468,)"
            ]
          },
          "metadata": {
            "tags": []
          },
          "execution_count": 45
        }
      ]
    },
    {
      "cell_type": "code",
      "metadata": {
        "id": "vYdBgOlPzWP8",
        "outputId": "ed50b4c9-01ea-4ae1-adf8-2474d3ca73d5"
      },
      "source": [
        "after['PPE_People'].shape"
      ],
      "execution_count": null,
      "outputs": [
        {
          "output_type": "execute_result",
          "data": {
            "text/plain": [
              "(19609,)"
            ]
          },
          "metadata": {
            "tags": []
          },
          "execution_count": 46
        }
      ]
    },
    {
      "cell_type": "code",
      "metadata": {
        "id": "MeSKwCAhzWP8",
        "outputId": "0488c71e-23cb-414b-8924-a57e068969b8"
      },
      "source": [
        "t_val = ttest_ind(before['PPE_People'], after['PPE_People']).statistic\n",
        "p_val = ttest_ind(before['PPE_People'], after['PPE_People']).pvalue\n",
        "\n",
        "assert t_val\n",
        "assert p_val\n",
        "\n",
        "if p_val < 0.01: print('We can reject the null hypothesis and potentially consider our alternative hypothesis.')\n",
        "else: print('There is no significant difference, and we cannot reject the null hypothesis.')"
      ],
      "execution_count": null,
      "outputs": [
        {
          "output_type": "stream",
          "text": [
            "There is no significant difference, and we cannot reject the null hypothesis.\n"
          ],
          "name": "stdout"
        }
      ]
    },
    {
      "cell_type": "markdown",
      "metadata": {
        "id": "LCa61e5EzWP9"
      },
      "source": [
        "This test determined that there is no significant difference between the distribution of rates of PPE collected before and after the start of the COVID-19 pandemic."
      ]
    },
    {
      "cell_type": "markdown",
      "metadata": {
        "id": "a-qQWy7zzWP9"
      },
      "source": [
        "## By State"
      ]
    },
    {
      "cell_type": "code",
      "metadata": {
        "id": "poUJXF2KzWP9",
        "outputId": "81a764bd-dd11-4a7b-8bba-a03dd4eff4c6"
      },
      "source": [
        "# We have grouped the data by States, and we noticed that many masks were found on coasts.\n",
        "by_state = data.groupby('State')[['Gloves & Masks (PPE)', 'PPE_People']].agg(sum)\n",
        "top_10 = by_state.sort_values(by='Gloves & Masks (PPE)', ascending=False).iloc[:10]\n",
        "top_10"
      ],
      "execution_count": null,
      "outputs": [
        {
          "output_type": "execute_result",
          "data": {
            "text/html": [
              "<div>\n",
              "<style scoped>\n",
              "    .dataframe tbody tr th:only-of-type {\n",
              "        vertical-align: middle;\n",
              "    }\n",
              "\n",
              "    .dataframe tbody tr th {\n",
              "        vertical-align: top;\n",
              "    }\n",
              "\n",
              "    .dataframe thead th {\n",
              "        text-align: right;\n",
              "    }\n",
              "</style>\n",
              "<table border=\"1\" class=\"dataframe\">\n",
              "  <thead>\n",
              "    <tr style=\"text-align: right;\">\n",
              "      <th></th>\n",
              "      <th>Gloves &amp; Masks (PPE)</th>\n",
              "      <th>PPE_People</th>\n",
              "    </tr>\n",
              "    <tr>\n",
              "      <th>State</th>\n",
              "      <th></th>\n",
              "      <th></th>\n",
              "    </tr>\n",
              "  </thead>\n",
              "  <tbody>\n",
              "    <tr>\n",
              "      <th>California, USA</th>\n",
              "      <td>16833</td>\n",
              "      <td>inf</td>\n",
              "    </tr>\n",
              "    <tr>\n",
              "      <th>Florida, USA</th>\n",
              "      <td>4020</td>\n",
              "      <td>2052.613427</td>\n",
              "    </tr>\n",
              "    <tr>\n",
              "      <th>New York, USA</th>\n",
              "      <td>1350</td>\n",
              "      <td>999.575880</td>\n",
              "    </tr>\n",
              "    <tr>\n",
              "      <th>Connecticut, USA</th>\n",
              "      <td>643</td>\n",
              "      <td>317.159524</td>\n",
              "    </tr>\n",
              "    <tr>\n",
              "      <th>Massachusetts, USA</th>\n",
              "      <td>571</td>\n",
              "      <td>294.492861</td>\n",
              "    </tr>\n",
              "    <tr>\n",
              "      <th>Virginia, USA</th>\n",
              "      <td>552</td>\n",
              "      <td>264.401348</td>\n",
              "    </tr>\n",
              "    <tr>\n",
              "      <th>North Carolina, USA</th>\n",
              "      <td>429</td>\n",
              "      <td>157.141098</td>\n",
              "    </tr>\n",
              "    <tr>\n",
              "      <th>Ohio, USA</th>\n",
              "      <td>405</td>\n",
              "      <td>158.975914</td>\n",
              "    </tr>\n",
              "    <tr>\n",
              "      <th>Texas, USA</th>\n",
              "      <td>397</td>\n",
              "      <td>183.887731</td>\n",
              "    </tr>\n",
              "    <tr>\n",
              "      <th>Washington, USA</th>\n",
              "      <td>334</td>\n",
              "      <td>254.605556</td>\n",
              "    </tr>\n",
              "  </tbody>\n",
              "</table>\n",
              "</div>"
            ],
            "text/plain": [
              "                     Gloves & Masks (PPE)   PPE_People\n",
              "State                                                 \n",
              "California, USA                     16833          inf\n",
              "Florida, USA                         4020  2052.613427\n",
              "New York, USA                        1350   999.575880\n",
              "Connecticut, USA                      643   317.159524\n",
              "Massachusetts, USA                    571   294.492861\n",
              "Virginia, USA                         552   264.401348\n",
              "North Carolina, USA                   429   157.141098\n",
              "Ohio, USA                             405   158.975914\n",
              "Texas, USA                            397   183.887731\n",
              "Washington, USA                       334   254.605556"
            ]
          },
          "metadata": {
            "tags": []
          },
          "execution_count": 48
        }
      ]
    },
    {
      "cell_type": "code",
      "metadata": {
        "id": "MdGMyikhzWP-",
        "outputId": "4705ee7e-d087-47b3-c01e-4bfde3158ca6"
      },
      "source": [
        "# Bar plot of PPE Count from each of the top 10 US states\n",
        "plt.xlabel('State')\n",
        "plt.xticks(rotation = 45)\n",
        "plt.ylabel('PPE Count')\n",
        "plt.bar(top_10.index, top_10['Gloves & Masks (PPE)']);"
      ],
      "execution_count": null,
      "outputs": [
        {
          "output_type": "display_data",
          "data": {
            "image/png": "[encoded data removed]",
            "text/plain": [
              "<Figure size 432x288 with 1 Axes>"
            ]
          },
          "metadata": {
            "tags": [],
            "needs_background": "light"
          }
        }
      ]
    },
    {
      "cell_type": "markdown",
      "metadata": {
        "id": "WyEtsEGuzWP-"
      },
      "source": [
        "# Prediction\n",
        "\n",
        "We would like to construct a prediction model to better understand the trends between the amount of PPE in our oceans and COVID-19 regulations. For our model, we will be incorporating all the features into a Logistic Regression model. "
      ]
    },
    {
      "cell_type": "code",
      "metadata": {
        "id": "9Q6hA8xmzWP-"
      },
      "source": [
        "from sklearn.linear_model import LogisticRegression\n",
        "from sklearn.preprocessing import OneHotEncoder\n",
        "from sklearn.preprocessing import OrdinalEncoder\n",
        "from sklearn.model_selection import train_test_split\n",
        "from sklearn.metrics import accuracy_score"
      ],
      "execution_count": null,
      "outputs": []
    },
    {
      "cell_type": "markdown",
      "metadata": {
        "id": "FVGqbePKzWP_"
      },
      "source": [
        "## Constructing the Predictor"
      ]
    },
    {
      "cell_type": "markdown",
      "metadata": {
        "id": "6Q-W2-a4zWP_"
      },
      "source": [
        "Here, we have conducted a predictor function that takes an input of the predictor features, the prediction value, and the model of choice (defaulting to Logistic Regression). It first uses sklearn's train_test_split to construct a set of three training/validation/test data sets each 50%/25%/25% respectfully. This is one measure to prevent overfitting. Next, it fits the training set to the model of choice, then predicting on the validation and test data sets. The function will print and output the calculated accuracies."
      ]
    },
    {
      "cell_type": "code",
      "metadata": {
        "id": "EXshm-BuzWP_"
      },
      "source": [
        "def predictor(X, y, mod=LogisticRegression()):\n",
        "    '''Constructs a predictor (default: Logistic Regression) \n",
        "    and outputs the accuracies on validation and test sets\n",
        "    as print statements'''\n",
        "    \n",
        "    # first, split to make test sets\n",
        "    X_, X_test, y_, y_test = train_test_split(X, y, test_size=0.25)\n",
        "    \n",
        "    # split remaining into training and validation sets\n",
        "    X_train, X_valid, y_train, y_valid = train_test_split(X_, y_, test_size=0.50)\n",
        "\n",
        "    # train a logistic regression model and fit to training set\n",
        "    model = mod.fit(X_train, y_train)\n",
        "\n",
        "    # predict with validation and test set\n",
        "    valid_preds = mod.predict(X_valid) \n",
        "    test_preds = mod.predict(X_test) \n",
        "\n",
        "    # calculate accuracy\n",
        "    valid_acc = accuracy_score(valid_preds, y_valid)\n",
        "    test_acc = accuracy_score(test_preds, y_test)\n",
        "\n",
        "    print('validation accuracy: ' + str(valid_acc))\n",
        "    print('test accuracy: ' + str(test_acc))\n",
        "\n",
        "    return valid_acc, test_acc"
      ],
      "execution_count": null,
      "outputs": []
    },
    {
      "cell_type": "markdown",
      "metadata": {
        "id": "6sGJBZ7MzWQA"
      },
      "source": [
        "## Choosing the Features"
      ]
    },
    {
      "cell_type": "markdown",
      "metadata": {
        "id": "a_9aq6lDzWQA"
      },
      "source": [
        "These features were chosen based off of our previous EDA."
      ]
    },
    {
      "cell_type": "code",
      "metadata": {
        "id": "ZeznYzmVzWQA",
        "outputId": "3056d555-29d0-4d01-8c3b-b87ec30c41b0"
      },
      "source": [
        "predictor_vals = data[['Cleanup Date', 'People', 'State', 'After_Covid']]\n",
        "predictor_vals.head()"
      ],
      "execution_count": null,
      "outputs": [
        {
          "output_type": "execute_result",
          "data": {
            "text/html": [
              "<div>\n",
              "<style scoped>\n",
              "    .dataframe tbody tr th:only-of-type {\n",
              "        vertical-align: middle;\n",
              "    }\n",
              "\n",
              "    .dataframe tbody tr th {\n",
              "        vertical-align: top;\n",
              "    }\n",
              "\n",
              "    .dataframe thead th {\n",
              "        text-align: right;\n",
              "    }\n",
              "</style>\n",
              "<table border=\"1\" class=\"dataframe\">\n",
              "  <thead>\n",
              "    <tr style=\"text-align: right;\">\n",
              "      <th></th>\n",
              "      <th>Cleanup Date</th>\n",
              "      <th>People</th>\n",
              "      <th>State</th>\n",
              "      <th>After_Covid</th>\n",
              "    </tr>\n",
              "  </thead>\n",
              "  <tbody>\n",
              "    <tr>\n",
              "      <th>0</th>\n",
              "      <td>2020-06-22</td>\n",
              "      <td>1.0</td>\n",
              "      <td>Michigan, USA</td>\n",
              "      <td>True</td>\n",
              "    </tr>\n",
              "    <tr>\n",
              "      <th>1</th>\n",
              "      <td>2020-12-24</td>\n",
              "      <td>2.0</td>\n",
              "      <td>Texas, USA</td>\n",
              "      <td>True</td>\n",
              "    </tr>\n",
              "    <tr>\n",
              "      <th>2</th>\n",
              "      <td>2020-12-24</td>\n",
              "      <td>2.0</td>\n",
              "      <td>Texas, USA</td>\n",
              "      <td>True</td>\n",
              "    </tr>\n",
              "    <tr>\n",
              "      <th>3</th>\n",
              "      <td>2020-12-24</td>\n",
              "      <td>2.0</td>\n",
              "      <td>Texas, USA</td>\n",
              "      <td>True</td>\n",
              "    </tr>\n",
              "    <tr>\n",
              "      <th>4</th>\n",
              "      <td>2020-12-27</td>\n",
              "      <td>1.0</td>\n",
              "      <td>Washington, USA</td>\n",
              "      <td>True</td>\n",
              "    </tr>\n",
              "  </tbody>\n",
              "</table>\n",
              "</div>"
            ],
            "text/plain": [
              "  Cleanup Date  People            State  After_Covid\n",
              "0   2020-06-22     1.0    Michigan, USA         True\n",
              "1   2020-12-24     2.0       Texas, USA         True\n",
              "2   2020-12-24     2.0       Texas, USA         True\n",
              "3   2020-12-24     2.0       Texas, USA         True\n",
              "4   2020-12-27     1.0  Washington, USA         True"
            ]
          },
          "metadata": {
            "tags": []
          },
          "execution_count": 52
        }
      ]
    },
    {
      "cell_type": "code",
      "metadata": {
        "id": "NpIh81-tzWQA",
        "outputId": "d6d4270c-4170-4e64-892f-5f3b954c2621"
      },
      "source": [
        "predictor_vals.shape"
      ],
      "execution_count": null,
      "outputs": [
        {
          "output_type": "execute_result",
          "data": {
            "text/plain": [
              "(20077, 4)"
            ]
          },
          "metadata": {
            "tags": []
          },
          "execution_count": 53
        }
      ]
    },
    {
      "cell_type": "markdown",
      "metadata": {
        "id": "1mnAlRTezWQB"
      },
      "source": [
        "The 'Cleanup Date' is an ordinal feature, so we will transform this feature with the Ordinal Encoder from sklearn. Evidently, the 'State' feature consists of the names of United States states, which is a categorical feature represented as a string. Before feeding this feature into our predictor, we will also one hot encode it using sklearn's preprocessing method."
      ]
    },
    {
      "cell_type": "code",
      "metadata": {
        "id": "BVE8gprdzWQB"
      },
      "source": [
        "dates = OrdinalEncoder().fit_transform(predictor_vals[['Cleanup Date']])\n",
        "states = OneHotEncoder().fit_transform(predictor_vals[['State']]).toarray()"
      ],
      "execution_count": null,
      "outputs": []
    },
    {
      "cell_type": "markdown",
      "metadata": {
        "id": "YTQ6umXFzWQB"
      },
      "source": [
        "We will set our predictor value to be the 'Gloves & Masks (PPE)' feature."
      ]
    },
    {
      "cell_type": "code",
      "metadata": {
        "id": "JqhufsrszWQB",
        "outputId": "7db508d0-926b-49ae-9d6b-d6c2f3a4bdcc"
      },
      "source": [
        "y = data['Gloves & Masks (PPE)']\n",
        "y.head()"
      ],
      "execution_count": null,
      "outputs": [
        {
          "output_type": "execute_result",
          "data": {
            "text/plain": [
              "0    0\n",
              "1    0\n",
              "2    0\n",
              "3    0\n",
              "4    0\n",
              "Name: Gloves & Masks (PPE), dtype: int64"
            ]
          },
          "metadata": {
            "tags": []
          },
          "execution_count": 55
        }
      ]
    },
    {
      "cell_type": "markdown",
      "metadata": {
        "id": "j_TyjZXgzWQC"
      },
      "source": [
        "## Predicting with the Models"
      ]
    },
    {
      "cell_type": "markdown",
      "metadata": {
        "id": "ZVfpV7dLzWQC"
      },
      "source": [
        "First, we tried out a model with only the ordinal encoded 'Cleanup Date', and found that the accuracy on the test set was at about"
      ]
    },
    {
      "cell_type": "code",
      "metadata": {
        "id": "aRsFRRTLzWQC",
        "outputId": "f4c31ace-f670-4a6d-e7b1-ab457cb3e403"
      },
      "source": [
        "# dates only\n",
        "dates_valid, dates_test = predictor(dates, y)"
      ],
      "execution_count": null,
      "outputs": [
        {
          "output_type": "stream",
          "text": [
            "validation accuracy: 0.702749369106123\n",
            "test accuracy: 0.7123505976095618\n"
          ],
          "name": "stdout"
        }
      ]
    },
    {
      "cell_type": "code",
      "metadata": {
        "id": "3ky2VJ-qzWQD",
        "outputId": "db53ecb1-69a9-4422-99e1-a122cbc40ce9"
      },
      "source": [
        "# states only\n",
        "states_valid, states_test = predictor(states, y)"
      ],
      "execution_count": null,
      "outputs": [
        {
          "output_type": "stream",
          "text": [
            "validation accuracy: 0.7099216363394873\n",
            "test accuracy: 0.702589641434263\n"
          ],
          "name": "stdout"
        }
      ]
    },
    {
      "cell_type": "code",
      "metadata": {
        "id": "wiLH8BE-zWQD",
        "outputId": "f283014c-2b9b-4dac-8dad-9901314bfca4"
      },
      "source": [
        "# (number of) people only\n",
        "people_valid, people_test = predictor(predictor_vals[['People']], y)"
      ],
      "execution_count": null,
      "outputs": [
        {
          "output_type": "stream",
          "text": [
            "validation accuracy: 0.712312392083942\n",
            "test accuracy: 0.7059760956175298\n"
          ],
          "name": "stdout"
        }
      ]
    },
    {
      "cell_type": "code",
      "metadata": {
        "id": "DXFfvlAvzWQE",
        "outputId": "957d321f-1225-4932-a014-57a2cd685a37"
      },
      "source": [
        "# (if occurred) after covid only \n",
        "covid_valid, covid_test = predictor(predictor_vals[['After_Covid']], y)"
      ],
      "execution_count": null,
      "outputs": [
        {
          "output_type": "stream",
          "text": [
            "validation accuracy: 0.7095231770487449\n",
            "test accuracy: 0.7175298804780876\n"
          ],
          "name": "stdout"
        }
      ]
    },
    {
      "cell_type": "code",
      "metadata": {
        "scrolled": true,
        "id": "dJOKmEMczWQF",
        "outputId": "338720ed-80f2-49be-ff30-e16a32f619c0"
      },
      "source": [
        "X = pd.DataFrame(states) # one hot encoded 'State'\n",
        "X['Date'] = pd.DataFrame(dates)[0] # ordinal encoded 'Cleanup Dates'\n",
        "X['People'] = predictor_vals['People'] # 'People'\n",
        "X['After_Covid'] = predictor_vals['After_Covid'] # 'After_Covid'\n",
        "X.head()"
      ],
      "execution_count": null,
      "outputs": [
        {
          "output_type": "execute_result",
          "data": {
            "text/html": [
              "<div>\n",
              "<style scoped>\n",
              "    .dataframe tbody tr th:only-of-type {\n",
              "        vertical-align: middle;\n",
              "    }\n",
              "\n",
              "    .dataframe tbody tr th {\n",
              "        vertical-align: top;\n",
              "    }\n",
              "\n",
              "    .dataframe thead th {\n",
              "        text-align: right;\n",
              "    }\n",
              "</style>\n",
              "<table border=\"1\" class=\"dataframe\">\n",
              "  <thead>\n",
              "    <tr style=\"text-align: right;\">\n",
              "      <th></th>\n",
              "      <th>0</th>\n",
              "      <th>1</th>\n",
              "      <th>2</th>\n",
              "      <th>3</th>\n",
              "      <th>4</th>\n",
              "      <th>5</th>\n",
              "      <th>6</th>\n",
              "      <th>7</th>\n",
              "      <th>8</th>\n",
              "      <th>9</th>\n",
              "      <th>...</th>\n",
              "      <th>35</th>\n",
              "      <th>36</th>\n",
              "      <th>37</th>\n",
              "      <th>38</th>\n",
              "      <th>39</th>\n",
              "      <th>40</th>\n",
              "      <th>41</th>\n",
              "      <th>Date</th>\n",
              "      <th>People</th>\n",
              "      <th>After_Covid</th>\n",
              "    </tr>\n",
              "  </thead>\n",
              "  <tbody>\n",
              "    <tr>\n",
              "      <th>0</th>\n",
              "      <td>0.0</td>\n",
              "      <td>0.0</td>\n",
              "      <td>0.0</td>\n",
              "      <td>0.0</td>\n",
              "      <td>0.0</td>\n",
              "      <td>0.0</td>\n",
              "      <td>0.0</td>\n",
              "      <td>0.0</td>\n",
              "      <td>0.0</td>\n",
              "      <td>0.0</td>\n",
              "      <td>...</td>\n",
              "      <td>0.0</td>\n",
              "      <td>0.0</td>\n",
              "      <td>0.0</td>\n",
              "      <td>0.0</td>\n",
              "      <td>0.0</td>\n",
              "      <td>0.0</td>\n",
              "      <td>0.0</td>\n",
              "      <td>131.0</td>\n",
              "      <td>1.0</td>\n",
              "      <td>True</td>\n",
              "    </tr>\n",
              "    <tr>\n",
              "      <th>1</th>\n",
              "      <td>0.0</td>\n",
              "      <td>0.0</td>\n",
              "      <td>0.0</td>\n",
              "      <td>0.0</td>\n",
              "      <td>0.0</td>\n",
              "      <td>0.0</td>\n",
              "      <td>0.0</td>\n",
              "      <td>0.0</td>\n",
              "      <td>0.0</td>\n",
              "      <td>0.0</td>\n",
              "      <td>...</td>\n",
              "      <td>0.0</td>\n",
              "      <td>1.0</td>\n",
              "      <td>0.0</td>\n",
              "      <td>0.0</td>\n",
              "      <td>0.0</td>\n",
              "      <td>0.0</td>\n",
              "      <td>0.0</td>\n",
              "      <td>316.0</td>\n",
              "      <td>2.0</td>\n",
              "      <td>True</td>\n",
              "    </tr>\n",
              "    <tr>\n",
              "      <th>2</th>\n",
              "      <td>0.0</td>\n",
              "      <td>0.0</td>\n",
              "      <td>0.0</td>\n",
              "      <td>0.0</td>\n",
              "      <td>0.0</td>\n",
              "      <td>0.0</td>\n",
              "      <td>0.0</td>\n",
              "      <td>0.0</td>\n",
              "      <td>0.0</td>\n",
              "      <td>0.0</td>\n",
              "      <td>...</td>\n",
              "      <td>0.0</td>\n",
              "      <td>1.0</td>\n",
              "      <td>0.0</td>\n",
              "      <td>0.0</td>\n",
              "      <td>0.0</td>\n",
              "      <td>0.0</td>\n",
              "      <td>0.0</td>\n",
              "      <td>316.0</td>\n",
              "      <td>2.0</td>\n",
              "      <td>True</td>\n",
              "    </tr>\n",
              "    <tr>\n",
              "      <th>3</th>\n",
              "      <td>0.0</td>\n",
              "      <td>0.0</td>\n",
              "      <td>0.0</td>\n",
              "      <td>0.0</td>\n",
              "      <td>0.0</td>\n",
              "      <td>0.0</td>\n",
              "      <td>0.0</td>\n",
              "      <td>0.0</td>\n",
              "      <td>0.0</td>\n",
              "      <td>0.0</td>\n",
              "      <td>...</td>\n",
              "      <td>0.0</td>\n",
              "      <td>1.0</td>\n",
              "      <td>0.0</td>\n",
              "      <td>0.0</td>\n",
              "      <td>0.0</td>\n",
              "      <td>0.0</td>\n",
              "      <td>0.0</td>\n",
              "      <td>316.0</td>\n",
              "      <td>2.0</td>\n",
              "      <td>True</td>\n",
              "    </tr>\n",
              "    <tr>\n",
              "      <th>4</th>\n",
              "      <td>0.0</td>\n",
              "      <td>0.0</td>\n",
              "      <td>0.0</td>\n",
              "      <td>0.0</td>\n",
              "      <td>0.0</td>\n",
              "      <td>0.0</td>\n",
              "      <td>0.0</td>\n",
              "      <td>0.0</td>\n",
              "      <td>0.0</td>\n",
              "      <td>0.0</td>\n",
              "      <td>...</td>\n",
              "      <td>0.0</td>\n",
              "      <td>0.0</td>\n",
              "      <td>0.0</td>\n",
              "      <td>0.0</td>\n",
              "      <td>0.0</td>\n",
              "      <td>1.0</td>\n",
              "      <td>0.0</td>\n",
              "      <td>319.0</td>\n",
              "      <td>1.0</td>\n",
              "      <td>True</td>\n",
              "    </tr>\n",
              "  </tbody>\n",
              "</table>\n",
              "<p>5 rows × 45 columns</p>\n",
              "</div>"
            ],
            "text/plain": [
              "     0    1    2    3    4    5    6    7    8    9  ...   35   36   37   38  \\\n",
              "0  0.0  0.0  0.0  0.0  0.0  0.0  0.0  0.0  0.0  0.0  ...  0.0  0.0  0.0  0.0   \n",
              "1  0.0  0.0  0.0  0.0  0.0  0.0  0.0  0.0  0.0  0.0  ...  0.0  1.0  0.0  0.0   \n",
              "2  0.0  0.0  0.0  0.0  0.0  0.0  0.0  0.0  0.0  0.0  ...  0.0  1.0  0.0  0.0   \n",
              "3  0.0  0.0  0.0  0.0  0.0  0.0  0.0  0.0  0.0  0.0  ...  0.0  1.0  0.0  0.0   \n",
              "4  0.0  0.0  0.0  0.0  0.0  0.0  0.0  0.0  0.0  0.0  ...  0.0  0.0  0.0  0.0   \n",
              "\n",
              "    39   40   41   Date  People  After_Covid  \n",
              "0  0.0  0.0  0.0  131.0     1.0         True  \n",
              "1  0.0  0.0  0.0  316.0     2.0         True  \n",
              "2  0.0  0.0  0.0  316.0     2.0         True  \n",
              "3  0.0  0.0  0.0  316.0     2.0         True  \n",
              "4  0.0  1.0  0.0  319.0     1.0         True  \n",
              "\n",
              "[5 rows x 45 columns]"
            ]
          },
          "metadata": {
            "tags": []
          },
          "execution_count": 60
        }
      ]
    },
    {
      "cell_type": "code",
      "metadata": {
        "id": "m7W0P1v8zWQF",
        "outputId": "ec037ed8-50e4-446b-f7da-c6f7bd0c4e3a"
      },
      "source": [
        "all_valid, all_test = predictor(X, y)"
      ],
      "execution_count": null,
      "outputs": [
        {
          "output_type": "stream",
          "text": [
            "validation accuracy: 0.7068667817771285\n",
            "test accuracy: 0.7037848605577689\n"
          ],
          "name": "stdout"
        }
      ]
    },
    {
      "cell_type": "markdown",
      "metadata": {
        "id": "LR2rDWo_zWQG"
      },
      "source": [
        "## Results \n",
        "\n",
        "After calulating the validation and test accuracies of the features, we have produced the following results. There is not much variation between the accuracies, and we believe this may be attributed to the smaller size of our dataset, especially considering that it mostly encompasses the period of COVID-19 and focuses on only the US specifically. With more hyperparameter tuning, potentially another dataset, and other models, we believe this predictor could be further optimized."
      ]
    },
    {
      "cell_type": "code",
      "metadata": {
        "id": "7AyRHG4OzWQG",
        "outputId": "b1451f0c-3000-4dcf-ef4d-606b07375f37"
      },
      "source": [
        "results = pd.DataFrame({'Date': [dates_valid, dates_test], 'State':[states_valid, states_test], \n",
        "            'People': [people_valid, people_test], 'After_Covid': [covid_valid, covid_test], \n",
        "             'All': [all_valid, all_test], 'Accuracy': ['validation', 'test']}).set_index('Accuracy')\n",
        "results"
      ],
      "execution_count": null,
      "outputs": [
        {
          "output_type": "execute_result",
          "data": {
            "text/html": [
              "<div>\n",
              "<style scoped>\n",
              "    .dataframe tbody tr th:only-of-type {\n",
              "        vertical-align: middle;\n",
              "    }\n",
              "\n",
              "    .dataframe tbody tr th {\n",
              "        vertical-align: top;\n",
              "    }\n",
              "\n",
              "    .dataframe thead th {\n",
              "        text-align: right;\n",
              "    }\n",
              "</style>\n",
              "<table border=\"1\" class=\"dataframe\">\n",
              "  <thead>\n",
              "    <tr style=\"text-align: right;\">\n",
              "      <th></th>\n",
              "      <th>Date</th>\n",
              "      <th>State</th>\n",
              "      <th>People</th>\n",
              "      <th>After_Covid</th>\n",
              "      <th>All</th>\n",
              "    </tr>\n",
              "    <tr>\n",
              "      <th>Accuracy</th>\n",
              "      <th></th>\n",
              "      <th></th>\n",
              "      <th></th>\n",
              "      <th></th>\n",
              "      <th></th>\n",
              "    </tr>\n",
              "  </thead>\n",
              "  <tbody>\n",
              "    <tr>\n",
              "      <th>validation</th>\n",
              "      <td>0.702749</td>\n",
              "      <td>0.709922</td>\n",
              "      <td>0.712312</td>\n",
              "      <td>0.709523</td>\n",
              "      <td>0.706867</td>\n",
              "    </tr>\n",
              "    <tr>\n",
              "      <th>test</th>\n",
              "      <td>0.712351</td>\n",
              "      <td>0.702590</td>\n",
              "      <td>0.705976</td>\n",
              "      <td>0.717530</td>\n",
              "      <td>0.703785</td>\n",
              "    </tr>\n",
              "  </tbody>\n",
              "</table>\n",
              "</div>"
            ],
            "text/plain": [
              "                Date     State    People  After_Covid       All\n",
              "Accuracy                                                       \n",
              "validation  0.702749  0.709922  0.712312     0.709523  0.706867\n",
              "test        0.712351  0.702590  0.705976     0.717530  0.703785"
            ]
          },
          "metadata": {
            "tags": []
          },
          "execution_count": 62
        }
      ]
    },
    {
      "cell_type": "markdown",
      "metadata": {
        "id": "gDNgBxOXzWQG"
      },
      "source": [
        "# Ethics & Privacy"
      ]
    },
    {
      "cell_type": "markdown",
      "metadata": {
        "id": "9YJSm8kTzWQG"
      },
      "source": [
        "   Platform availability is a big concern as well for organizations or researchers who have worked hard to collect accurate plastic pollutant data, but experience limitations when it comes to sharing the data with the world. Additionally, data may not be compiled equitably around the world considering how certain oceanic locations differ from others.\n",
        "   \n",
        "   Since our primary source of pollutant data was the Coastal Cleanup Project, one potential issue is how developed and accessible a region’s coastline is (for instance, California and Florida both have very accessible coastlines). Also, there are drastically more coastlines in oceanic regions than those limited to lakes or rivers. Socioeconomic factors may limit parts of the population from participating in volunteer events, so data reporting may be restricted in certain regions. However, we implement a control by looking for PPE collected per capita at volunteer events we are able to find trends.\n",
        "   \n",
        "   Additionally, our dataset is contained within February 20, 2020 to February 20, 2021-- the amount of data prior to COVID-19 is significantly less than that during/after the pandemic. This study focused on data from the United States, so this data may not hold true for other countries with different levels of wealth, education, resources, and cultures. For instance, in areas that are notoriously polluted, there may be more resources already allocated to coastal cleanup unrelated to The Coastal Cleanup Project. We will note these biases throughout our project and appropriately discuss their potential impacts on our visualizations and results. \n",
        "   \n",
        "   \n",
        "   "
      ]
    },
    {
      "cell_type": "markdown",
      "metadata": {
        "id": "I0vAv94UzWQH"
      },
      "source": [
        "# Conclusion & Discussion"
      ]
    },
    {
      "cell_type": "markdown",
      "metadata": {
        "id": "BXeNpxf7zWQH"
      },
      "source": [
        "   With our plots, we tried to understand how the COVID-19 pandemic could be correlated to the amount of Preventative Protection Equipment (PPE) waste found in our oceans. Using our dataset, we considered: the cleanup date, amount of people participating in the cleanup, amount of PPE collected, amount of PPE collected per person, the state the cleanup was located, and whether the cleanup occurred before or after the COVID-19 pandemic. When evaluating our results, we will also take into consideration that our dataset spans one year, 02-20-20 to 02-20-21. As such, there will be fewer data to analyze the trends prior to COVID-19. Additionally, the PPE feature consists of both Gloves and Masks and includes data only on the United States. With each of these factors, we were able to gain a better idea about this relationship. \n",
        "\n",
        "   Plotting the _PPE counts per Cleanup Date_ immediately displayed a large spike in PPE counts. Additionally, we plotted the amount of people participating _('People') per Cleanup Date_; this plot did show an increase in number of volunteers, which could be a confounding factor as to why there was more PPE collected. However, when plotting the _amount of PPE collected per person_, we could see that this plot mirrored the original _PPE counts per Cleanup Date_: this exemplifies how the rise in PPE could be attributed to something else other than number of volunteers, potentially the COVID-19 regulations. Next, we refined our granularity to before and after the declaration of COVID-19, which was March 11, 2020 (03/11/21). We performed a t-test on these sets, finding that the p-value was less than our set significance level of 0.01, so they were not in fact significantly different and we cannot reject the null hypothesis; this was to be expected given our dataset sizes (468 vs. 19609). When observing the cleanups per U.S. state, we can see that there was more PPE collected in states near coastlines, which makes sense logically. From this refinement, we can see that the states with the most PPE accumulated were California, Florida, New York, Connecticut, and Massachusetts. We believe this ordering also makes sense, because these states are both near coasts and densely populated.\n",
        "\n",
        "   For our prediction task, we focused on predicting the amount of PPE, 'Gloves & Masks (PPE)' collected given the features 'Cleanup Date', 'People', 'State', and 'After_Covid'. We defined a function to first split the data into training/validation/test datasets and to fit and predict with a Logistic Regression model. We found that given each of the features individually and on all the features together, the validation and test accuracies amounted to about 70%-71%. We believe that these results are fair given the limitations on the size of our dataset. If we were to further refine our model (_more data_, data engineering, hypertuning, other models), we believe that this predictor would be beneficial in forecasting how our environment will appear in the years to come. Additionally, this project will bring to light how COVID-19 has affected our communities beyond the people it infects and will bring greater awareness to climate change.\n"
      ]
    },
    {
      "cell_type": "markdown",
      "metadata": {
        "id": "jm-xOoLSzWQI"
      },
      "source": [
        "# Team Contributions"
      ]
    },
    {
      "cell_type": "markdown",
      "metadata": {
        "id": "CLGEZjzOzWQI"
      },
      "source": [
        "- Sikandar Bangash\n",
        "- Ian Jeffers\n",
        "- Mary Mei Longano\n",
        "- Rachel Ung"
      ]
    },
    {
      "cell_type": "code",
      "metadata": {
        "id": "Fzw--rKbzWQI"
      },
      "source": [
        ""
      ],
      "execution_count": null,
      "outputs": []
    }
  ]
}